{
  "nbformat": 4,
  "nbformat_minor": 0,
  "metadata": {
    "colab": {
      "name": "Outlier(z-score), process , resize, embedding / outlier 수정해야함 (210323).ipynb",
      "provenance": [],
      "collapsed_sections": []
    },
    "kernelspec": {
      "name": "python3",
      "display_name": "Python 3"
    }
  },
  "cells": [
    {
      "cell_type": "code",
      "metadata": {
        "id": "hl-l50VKsiGw",
        "colab": {
          "base_uri": "https://localhost:8080/"
        },
        "outputId": "47bc1673-6e37-4138-c334-ae675d050b12"
      },
      "source": [
        "!pip install tslearn\n",
        "\n",
        "import os\n",
        "import keras\n",
        "import tensorflow as tf\n",
        "import keras.backend as K\n",
        "import numpy as np\n",
        "import matplotlib.pyplot as plt\n",
        "import matplotlib.cm as cm \n",
        "import pylab as plt\n",
        "import pandas as pd\n",
        "import glob\n",
        "import math\n",
        "import cv2\n",
        "import pickle\n",
        "import umap\n",
        "\n",
        "from fastdtw import fastdtw\n",
        "from scipy.spatial.distance import euclidean, cityblock\n",
        "from math import cos, pi\n",
        "\n",
        "from matplotlib import cm\n",
        "from sklearn import manifold\n",
        "from sklearn.cluster import KMeans\n",
        "from sklearn.metrics import silhouette_score\n",
        "from sklearn.metrics import silhouette_samples\n",
        "from sklearn.datasets import make_blobs\n",
        "from sklearn.preprocessing import StandardScaler, MinMaxScaler\n",
        "from sklearn.utils.linear_assignment_ import linear_assignment\n",
        "\n",
        "from sklearn.decomposition import PCA\n",
        "from sklearn.cluster import DBSCAN\n",
        "\n",
        "from tslearn.clustering import KShape\n",
        "\n",
        "from math import sqrt\n",
        "from scipy import stats\n",
        "from scipy.cluster import vq\n",
        "from scipy.spatial.distance import cdist\n",
        "from sklearn.datasets.samples_generator import make_blobs\n",
        "\n",
        "from tensorflow.python.keras.backend import eager_learning_phase_scope\n",
        "from keras.engine.topology import Layer\n",
        "from tensorflow.keras.models import Sequential, Model\n",
        "from tensorflow.keras.layers import Conv2D, Conv2DTranspose, Dense, Flatten, BatchNormalization, Reshape, LeakyReLU,Conv1D, UpSampling1D, MaxPooling1D, Conv1DTranspose, ELU, Dropout,MaxPooling2D, UpSampling2D, concatenate,Activation\n",
        "from keras.layers import Input\n",
        "from keras.optimizers import Adam\n",
        "from tensorflow.keras.callbacks import ModelCheckpoint, EarlyStopping\n",
        "from keras.preprocessing.image import load_img, array_to_img, img_to_array, ImageDataGenerator\n",
        "from keras import optimizers\n",
        "\n",
        "\n",
        "np.set_printoptions(threshold=np.inf) #...없이 출력하기"
      ],
      "execution_count": 289,
      "outputs": [
        {
          "output_type": "stream",
          "text": [
            "Requirement already satisfied: tslearn in /usr/local/lib/python3.7/dist-packages (0.5.0.5)\n",
            "Requirement already satisfied: scikit-learn in /usr/local/lib/python3.7/dist-packages (from tslearn) (0.22.2.post1)\n",
            "Requirement already satisfied: scipy in /usr/local/lib/python3.7/dist-packages (from tslearn) (1.4.1)\n",
            "Requirement already satisfied: Cython in /usr/local/lib/python3.7/dist-packages (from tslearn) (0.29.22)\n",
            "Requirement already satisfied: numba in /usr/local/lib/python3.7/dist-packages (from tslearn) (0.51.2)\n",
            "Requirement already satisfied: numpy in /usr/local/lib/python3.7/dist-packages (from tslearn) (1.19.5)\n",
            "Requirement already satisfied: joblib in /usr/local/lib/python3.7/dist-packages (from tslearn) (1.0.1)\n",
            "Requirement already satisfied: llvmlite<0.35,>=0.34.0.dev0 in /usr/local/lib/python3.7/dist-packages (from numba->tslearn) (0.34.0)\n",
            "Requirement already satisfied: setuptools in /usr/local/lib/python3.7/dist-packages (from numba->tslearn) (54.1.2)\n"
          ],
          "name": "stdout"
        }
      ]
    },
    {
      "cell_type": "markdown",
      "metadata": {
        "id": "bW7ZVTviKTWb"
      },
      "source": [
        "# 함수"
      ]
    },
    {
      "cell_type": "markdown",
      "metadata": {
        "id": "TH-iHAr08KFl"
      },
      "source": [
        "Data Proprocessing(0) : CSV로부터 DATA 입력받기"
      ]
    },
    {
      "cell_type": "code",
      "metadata": {
        "id": "sgnNbxjAVbIF"
      },
      "source": [
        "# 데이터 입력 함수\n",
        "\n",
        "\"\"\"\n",
        "path : csv 파일의 경로\n",
        "outlier_flag : 정규화 종류 (1 : 이상치 제거 / 0 : 이상치 보존)\n",
        "value_col : 데이터를 나타내는 칼럼명\n",
        "process_col : 데이터를 구분하는 칼럼명\n",
        "\"\"\"\n",
        "\n",
        "def align_timeseries_dataset(path,outlier_flag, value_col,process_col=None):\n",
        "\n",
        "  if path==None or value_col == None:\n",
        "    return\n",
        "\n",
        "  input_csv = pd.read_csv(path,engine='python',encoding='utf-8')\n",
        "  input_csv = input_csv.astype({value_col:'float32'})\n",
        "\n",
        "  # outlier 제거 (Z-SCORE (-2~2) 사이만 남겨둠(95%))\n",
        "\n",
        "  if outlier_flag == '1':\n",
        "\n",
        "    input_csv['zscore'] = stats.zscore(input_csv[value_col])\n",
        "    zscore_dataset = z_score_normalize(input_csv[value_col])\n",
        "\n",
        "    input_csv = input_csv[input_csv['zscore'].between(-2,2)]\n",
        "  \n",
        "  minmax_dataset = min_max_normalize(input_csv[value_col])\n",
        "  \n",
        "  # min-max normalization \n",
        "  for i in range(len(minmax_dataset)):\n",
        "    input_csv[value_col][i]=minmax_dataset[i]\n",
        "\n",
        "  # Process가 존재하지 않는 경우\n",
        "  if process_col == None:\n",
        "    dataset = input_csv[value_col]\n",
        "  \n",
        "  # Process가 존재하는 경우 process 별로 데이터 분리\n",
        "  else:\n",
        "    dataset = []\n",
        "    process_set = list(set(input_csv[process_col]))\n",
        "\n",
        "    for process in process_set:\n",
        "      data = input_csv[(input_csv[process_col]==process)]\n",
        "      data = data[value_col]\n",
        "      dataset.append(data)\n",
        "  \n",
        "  return np.array(dataset)"
      ],
      "execution_count": 306,
      "outputs": []
    },
    {
      "cell_type": "markdown",
      "metadata": {
        "id": "wL7h-PryA75d"
      },
      "source": [
        "Data preprocessing function(1) - 시계열 데이터 길이 조절(truncation, padding, sliding window, DTW 등)"
      ]
    },
    {
      "cell_type": "code",
      "metadata": {
        "id": "S0N-I9vfBEhP"
      },
      "source": [
        "# 데이터 자르기 함수\n",
        "\n",
        "def data_truncation(dataset):\n",
        "  \n",
        "  return_dataset = []\n",
        "  max_size = 0\n",
        "  min_size = 999999\n",
        "\n",
        "  for i in range(len(dataset)):\n",
        "    if dataset[i].size < min_size:\n",
        "      min_size=dataset[i].size\n",
        "\n",
        "  for i in range(len(dataset)):\n",
        "    if dataset[i].size > min_size:\n",
        "      return_dataset.append(dataset[i][:min_size])\n",
        "    else:\n",
        "      return_dataset.append(dataset[i])\n",
        "\n",
        "  return np.array(return_dataset)\n",
        "\n",
        "# 데이터 패딩 함수\n",
        "\n",
        "def data_padding(dataset):\n",
        "\n",
        "  return_dataset = []\n",
        "  max_size = 0\n",
        "\n",
        "  for i in range(len(dataset)):\n",
        "    if dataset[i].size > max_size:\n",
        "      max_size=dataset[i].size\n",
        "\n",
        "  for i in range(len(dataset)):\n",
        "    if dataset[i].size < max_size:\n",
        "      return_dataset.append(np.pad(dataset[i], (0,max_size-dataset[i].size), 'constant', constant_values=0))\n",
        "    else:\n",
        "      return_dataset.append(dataset[i])\n",
        "\n",
        "  return np.array(return_dataset)\n",
        "\n",
        "# Sliding window 함수\n",
        "\n",
        "def sliding_window(dataset, window_size = 10 , shift_size = 1):\n",
        "\n",
        "  dataset = tf.data.Dataset.from_tensor_slices(dataset)\n",
        "  dataset = dataset.window(window_size, shift=shift_size, drop_remainder=True)\n",
        "  dataset = dataset.flat_map(lambda window: window.batch(window_size))\n",
        "  return_dataset = list()\n",
        "\n",
        "  for window in dataset:\n",
        "    return_dataset.append(window.numpy())\n",
        "  return_dataset = np.array(return_dataset)\n",
        "\n",
        "  return return_dataset\n",
        "\n",
        "# DTW 유사도를 통한 시계열 데이터 확장 함수 (작은 길이를 큰 길이로 맞춤)\n",
        "\n",
        "def data_dtw(dataset):\n",
        "\n",
        "  return_dataset = []\n",
        "  max_size = 0\n",
        "  max_index = 0\n",
        "\n",
        "  for i in range(len(dataset)):\n",
        "    if dataset[i].size > max_size:\n",
        "      max_size=dataset[i].size\n",
        "      max_index=i\n",
        "\n",
        "  long_ts_data = dataset[max_index]\n",
        "\n",
        "  for i in range(len(dataset)):\n",
        "    if dataset[i].size < max_size:\n",
        "      return_dataset.append(DTW_resize_algorithm(long_ts_data,dataset[i])[0])\n",
        "    else:\n",
        "      return_dataset.append(dataset[i])\n",
        "\n",
        "  return np.array(return_dataset)\n",
        "\n",
        "\n",
        "def DTW_resize_algorithm(long_ts_data, short_ts_data):\n",
        "\n",
        "  if len(long_ts_data) == len(short_ts_data):\n",
        "    return np.array(short_ts_data), np.array([0]*len(short_ts_data))\n",
        "\n",
        "  step = 0\n",
        "  similarity_degree_path = [0]*len(long_ts_data)\n",
        "  long_ts_data = np.array(long_ts_data)\n",
        "  short_ts_data = np.array(short_ts_data)\n",
        "\n",
        "  path_coordinates = fastdtw(short_ts_data, long_ts_data)[1]\n",
        "\n",
        "  for i in range(len(similarity_degree_path)):\n",
        "\n",
        "    similarity_degree_path[i] = (long_ts_data[path_coordinates[step][1]]-short_ts_data[path_coordinates[step][0]])\n",
        "    \n",
        "    for j in range(step+1,len(path_coordinates)):\n",
        "\n",
        "      if path_coordinates[step][1] == path_coordinates[j][1]:\n",
        "        similarity_degree_path[i] = similarity_degree_path[i] + (long_ts_data[path_coordinates[j][1]]-short_ts_data[path_coordinates[j][0]])\n",
        "        step=j\n",
        "        continue\n",
        "\n",
        "      else:\n",
        "        step+=1\n",
        "        break\n",
        "        \n",
        "  resize_ts_data = (long_ts_data - similarity_degree_path)\n",
        "\n",
        "  return np.array(resize_ts_data), np.array(similarity_degree_path)"
      ],
      "execution_count": 291,
      "outputs": []
    },
    {
      "cell_type": "markdown",
      "metadata": {
        "id": "FhsX9jUXAybS"
      },
      "source": [
        "Data preprocessing function(2) - 데이터 정규화 or 일반화"
      ]
    },
    {
      "cell_type": "code",
      "metadata": {
        "id": "kXJK_ZNG8s53"
      },
      "source": [
        "# Min-Max Normalization: 모든 feature들의 스케일이 동일하지만, 이상치(outlier)를 잘 처리하지 못한다.\n",
        "\n",
        "def min_max_normalize(lst):\n",
        "    normalized = []\n",
        "    \n",
        "    min_value = min(lst)\n",
        "    max_value = max(lst)\n",
        "\n",
        "    for value in lst:\n",
        "        normalized_num = (value - min_value) / (max_value -min_value)\n",
        "        normalized.append(normalized_num)\n",
        "    \n",
        "    return np.array(normalized)\n",
        "\n",
        "# Z-Score Normalization : 이상치(outlier)를 잘 처리하지만, 정확히 동일한 척도로 정규화 된 데이터를 생성하지는 않는다.\n",
        "\n",
        "def z_score_normalize(lst):\n",
        "    normalized = []\n",
        "\n",
        "    mean_value = np.mean(lst)\n",
        "    std_value = np.std(lst)\n",
        "    \n",
        "    for value in lst:\n",
        "        normalized_num = (value - mean_value) / std_value\n",
        "        normalized.append(normalized_num)\n",
        "    return np.array(normalized)"
      ],
      "execution_count": 292,
      "outputs": []
    },
    {
      "cell_type": "markdown",
      "metadata": {
        "id": "AZGjqHF7Anzk"
      },
      "source": [
        "Data preprocessing function(3) - 잠재 벡터 추출(UMAP, 이미지화 등)"
      ]
    },
    {
      "cell_type": "code",
      "metadata": {
        "id": "_PL1tD8BBiKF"
      },
      "source": [
        "\"\"\"\n",
        "RP 알고리즘\n",
        "\n",
        "serialize_vector : 시계열 데이터 value vector\n",
        "\"\"\"\n",
        "\n",
        "def RP_algorithm(serialize_vector):\n",
        "\n",
        "    N = serialize_vector.size\n",
        "    S = np.repeat(serialize_vector[None,:],N,axis=0)\n",
        "    Z = np.abs(S-S.T)\n",
        "    Z/=Z.max()\n",
        "    Z*=255\n",
        "    Z = Z.astype('uint8')\n",
        "    Z = np.array(Z)\n",
        "    return Z\n",
        "\n",
        "\"\"\"\n",
        "\n",
        "GAF 알고리즘 \n",
        "\n",
        "\"\"\"\n",
        "\n",
        "def tabulate(x, y, f):\n",
        "    \"\"\"Return a table of f(x, y). Useful for the Gram-like operations.\"\"\"\n",
        "    return np.vectorize(f)(*np.meshgrid(x, y, sparse=True))\n",
        "def cos_sum(a, b):\n",
        "    \"\"\"To work with tabulate.\"\"\"\n",
        "    return(math.cos(a+b))\n",
        "\n",
        "class GAF_algorithm:\n",
        "\n",
        "    def __init__(self):\n",
        "        pass\n",
        "    def __call__(self, serie):\n",
        "        \"\"\"Compute the Gramian Angular Field of an image\"\"\"\n",
        "        # Min-Max scaling\n",
        "        min_ = np.amin(serie)\n",
        "        max_ = np.amax(serie)\n",
        "        scaled_serie = (2*serie - max_ - min_)/(max_ - min_)\n",
        "\n",
        "        # Floating point inaccuracy!\n",
        "        scaled_serie = np.where(scaled_serie >= 1., 1., scaled_serie)\n",
        "        scaled_serie = np.where(scaled_serie <= -1., -1., scaled_serie)\n",
        "\n",
        "        # Polar encoding\n",
        "        phi = np.arccos(scaled_serie)\n",
        "        # Note! The computation of r is not necessary\n",
        "        r = np.linspace(0, 1, len(scaled_serie))\n",
        "\n",
        "        # GAF Computation (every term of the matrix)\n",
        "        gaf = tabulate(phi, phi, cos_sum)\n",
        "\n",
        "        gaf = (1+gaf)*255/2.0\n",
        "\n",
        "        return gaf\n",
        "\n",
        "\"\"\"\n",
        "image_vector : 변경하고자 하는 이미지 리스트\n",
        "img_size : 변경하고자 하는 이미지 크기\n",
        "\"\"\"\n",
        "\n",
        "def resize_img(image_vector_list, img_size):\n",
        "\n",
        "  image_list = []\n",
        "  \n",
        "  for i in range(len(image_vector_list)):\n",
        "\n",
        "    if len(image_vector_list[i]) > img_size:\n",
        "      img = cv2.resize(image_vector_list[i],(img_size,img_size),interpolation = cv2.INTER_AREA)\n",
        "\n",
        "    else:\n",
        "      img = cv2.resize(image_vector_list[i],(img_size,img_size),interpolation = cv2.INTER_LINEAR)\n",
        "\n",
        "    img = img.astype('uint8')\n",
        "    image_list.append(img)\n",
        "\n",
        "  image_list = np.array(image_list)\n",
        "\n",
        "  return image_list"
      ],
      "execution_count": 293,
      "outputs": []
    },
    {
      "cell_type": "code",
      "metadata": {
        "id": "BB_53SpltvQE"
      },
      "source": [
        "# Auto_Encoder 함수\n",
        "\n",
        "\"\"\"\n",
        "\n",
        "dataset : (n,) shape의 데이터\n",
        "LEARNING_LATE : 러닝레이트\n",
        "BATCH_SIZE : 배치사이즈\n",
        "EPOCHS : 에폭\n",
        "IMAGE\n",
        "TEST_SIZE : traing에서 뽑아낼 test 사이즈(default = 100)\n",
        "IMG_SIZE : 이미지사이즈(default = 64)\n",
        "IMAGING_FLAG : 이미지화 방법 (True : RP / False : GAF)\n",
        "IMAGE_SIZE_FLAG = 이미지 크기 (1 : small / 2 : middle / 3: large)\n",
        "\"\"\"\n",
        "\n",
        "def embedding_AE(dataset,LEARNING_LATE,BATCH_SIZE,EPOCHS,IMAGING_FLAG,IMAGE_SIZE_FLAG='1',TEST_SIZE=100):\n",
        "  \n",
        "  np.random.seed(1)\n",
        "  tf.random.set_seed(1)\n",
        "\n",
        "  latent_dim = 2\n",
        "\n",
        "  # 시계열데이터 이미지화\n",
        "\n",
        "  dataset_img = []\n",
        "\n",
        "  if IMAGING_FLAG == '1':\n",
        "    for i in range(len(dataset)):\n",
        "      dataset_img.append(RP_algorithm(dataset[i]))\n",
        "  else:\n",
        "    gaf = GAF_algorithm()\n",
        "\n",
        "    for i in range(len(dataset)):\n",
        "      dataset_img.append(gaf(dataset[i]))\n",
        "\n",
        "  if IMAGE_SIZE_FLAG == '1':\n",
        "    IMG_SIZE = 64\n",
        "  elif IMAGE_SIZE_FLAG == '2':\n",
        "    IMG_SIZE = 128\n",
        "  else :\n",
        "    IMG_SIZE = 256\n",
        "\n",
        "  dataset_class_img = resize_img(dataset_img,IMG_SIZE)\n",
        "  dataset_class_img = np.array(dataset_class_img)\n",
        "\n",
        "  dataset_image = dataset_class_img.reshape(len(dataset),IMG_SIZE,IMG_SIZE)\n",
        "\n",
        "  # Image -> train / test로 나누기\n",
        "\n",
        "  train = dataset_image\n",
        "  np.random.shuffle(train)\n",
        "\n",
        "  train = train.reshape(-1,IMG_SIZE,IMG_SIZE,1)\n",
        "\n",
        "  test = train[len(train)-TEST_SIZE:]\n",
        "  train = train[:len(train)-TEST_SIZE]  \n",
        "\n",
        "  # 데이터 정규화\n",
        "\n",
        "  train = train/dataset_image.max()\n",
        "  test = test/dataset_image.max()\n",
        "\n",
        "  # 체크포인트 설정\n",
        "\n",
        "  ae_checkpoint_path = 'AE.ckpt'\n",
        "  ae_checkpoint_dir = os.path.dirname(ae_checkpoint_path)\n",
        "\n",
        "  ae_callback_early = keras.callbacks.EarlyStopping(\n",
        "            monitor='loss',\n",
        "            min_delta=0,\n",
        "            patience=50,\n",
        "            verbose=0,\n",
        "            mode='auto'\n",
        "  )\n",
        "\n",
        "  ae_callback_best = keras.callbacks.ModelCheckpoint(\n",
        "    filepath=ae_checkpoint_path,\n",
        "    monitor='loss',\n",
        "    verbose=0,\n",
        "    save_best_only=True,\n",
        "    save_weights_only=True,\n",
        "    mode='min',\n",
        "    save_freq=1\n",
        "    )\n",
        "  \n",
        "  # AE Layer 설정\n",
        "\n",
        "  encoder_input = Input(shape=(IMG_SIZE,IMG_SIZE,1), name='input')\n",
        "\n",
        "  x = Conv2D(16, 3,strides=2, padding='same',activation='relu')(encoder_input)\n",
        "  x = BatchNormalization()(x)\n",
        "\n",
        "  x = Conv2D(32, 3, strides=2, padding='same',activation='relu')(x)\n",
        "  x = BatchNormalization()(x)\n",
        "\n",
        "  x = Conv2D(64, 3, strides=2,padding='same',activation='relu')(x)\n",
        "  x = BatchNormalization()(x)\n",
        "\n",
        "  x = Flatten()(x)\n",
        "  units = x.shape[1]\n",
        "\n",
        "  # 2D 좌표로 표기하기 위하여 2를 출력값으로 지정\n",
        "  embed = Dense(latent_dim,name='embedded')(x)\n",
        "\n",
        "  x = Dense(units)(embed)\n",
        "  x = Reshape((8, 8, 64))(x)\n",
        "\n",
        "  x = Conv2DTranspose(64, 3, strides=1, padding='same',activation='relu')(x)\n",
        "  x = BatchNormalization()(x)\n",
        "\n",
        "  x = Conv2DTranspose(32, 3, strides=2, padding='same',activation='relu')(x)\n",
        "  x = BatchNormalization()(x)\n",
        "\n",
        "  x = Conv2DTranspose(16, 3, strides=2, padding='same',activation='relu')(x)\n",
        "  x = BatchNormalization()(x)\n",
        "\n",
        "  decoder_outputs = Conv2DTranspose(1, (3,3), strides=2, padding='same', activation='sigmoid',name='output')(x)\n",
        "\n",
        "  # 오토인코더 실행\n",
        "\n",
        "  autoencoder = Model(encoder_input, decoder_outputs)\n",
        "  autoencoder.compile(optimizer=tf.keras.optimizers.Adam(LEARNING_LATE), loss=tf.keras.losses.MeanSquaredError())\n",
        "\n",
        "  hist = autoencoder.fit(train, train, batch_size=BATCH_SIZE, epochs=EPOCHS, validation_data =(test,test),shuffle=True,callbacks=[ae_callback_early,ae_callback_best])\n",
        "\n",
        "  # 이미지 그리기\n",
        "\n",
        "  decoded_images = autoencoder.predict(test)\n",
        "\n",
        "  draw_image_data(test,\"Original Image\",IMG_SIZE)\n",
        "  draw_image_data(decoded_images,\"Reproduction Image\",IMG_SIZE)\n",
        "\n",
        "  # 인코딩된 잠재 벡터 \n",
        "\n",
        "  get_embedded = K.function([autoencoder.get_layer('input').input],\n",
        "                                  [autoencoder.get_layer('embedded').output])\n",
        "  \n",
        "  dataset_dimension = np.vstack(get_embedded([dataset_image]))\n",
        "  dataset_dimension_data = np.vstack([dataset_dimension])\n",
        "  dataset_dimension_data = dataset_dimension_data.reshape(-1,latent_dim)\n",
        "\n",
        "  return dataset_dimension_data"
      ],
      "execution_count": 294,
      "outputs": []
    },
    {
      "cell_type": "code",
      "metadata": {
        "id": "uFvCxp4AtzEl"
      },
      "source": [
        "# UMAP 함수\n",
        "\n",
        "\"\"\"\n",
        "n_components : 축소하고자 하는 차원수\n",
        "n_neighbors : 작을수록 locality를 잘 나타내고, 커질수록 global structure를 잘 나타냄\n",
        "\"\"\"\n",
        "\n",
        "def embedding_UMAP(dataset, components=2, neighbors=50):\n",
        "  reducer = umap.UMAP(n_components=2,n_neighbors=50,init='random',random_state=0)\n",
        "  embedding = reducer.fit_transform(dataset)\n",
        "  return embedding"
      ],
      "execution_count": 295,
      "outputs": []
    },
    {
      "cell_type": "code",
      "metadata": {
        "id": "aasnkAwgwndv"
      },
      "source": [
        "# PCA 함수\n",
        "\"\"\"\n",
        "n_component : 주성분 분석 개수\n",
        "반환값 : PCA 실행 결과 \n",
        "\"\"\"\n",
        "\n",
        "def embedding_PCA(dataset, n_component=2):\n",
        "  pca = PCA(n_components=n_component)\n",
        "  pca.fit(dataset)\n",
        "  dataset_pca = pca.transform(dataset)\n",
        "  #print(pca.explained_variance_ratio_)\n",
        "  return dataset_pca"
      ],
      "execution_count": 296,
      "outputs": []
    },
    {
      "cell_type": "markdown",
      "metadata": {
        "id": "rH_8GLJhwAtS"
      },
      "source": [
        "Clustering"
      ]
    },
    {
      "cell_type": "code",
      "metadata": {
        "id": "x79WRrQYv_-m"
      },
      "source": [
        "# K-means 함수\n",
        "\n",
        "\"\"\"\n",
        "dimension_data=잠재벡터\n",
        "MAX_CLUSTER_SIZE=최대 군집 개수\n",
        "\"\"\"\n",
        "\n",
        "def clustering_KMEANS(dimension_data,MAX_CLUSTER_SIZE = 10) : \n",
        "  #class_dimension_data=잠재벡터,num_cluster=최대 군집 개수\n",
        "\n",
        "  n_cluster_list = cal_Silhouette(dimension_data,MAX_CLUSTER_SIZE,5)\n",
        "  #best_cluster = n_cluster_list[0]\n",
        "\n",
        "  dimension_data = dimension_data.reshape(-1,2)\n",
        "\n",
        "  for center in n_cluster_list:\n",
        "    draw_cluster_and_center(dimension_data,center)"
      ],
      "execution_count": 297,
      "outputs": []
    },
    {
      "cell_type": "code",
      "metadata": {
        "id": "qVsSgyx7H4R7"
      },
      "source": [
        "# K-shape 함수\n",
        "\n",
        "\"\"\"\n",
        "timeseries_data=\n",
        "n_cluster=군집 수\n",
        "\"\"\"\n",
        "\n",
        "def clustering_KSHAPE(timeseries_data,n_cluster=2) : \n",
        "\n",
        "  ks = KShape(n_clusters=n_cluster)\n",
        "  cluster_found_kshape = ks.fit_predict(timeseries_data)\n",
        "\n",
        "  return cluster_found_kshape"
      ],
      "execution_count": 298,
      "outputs": []
    },
    {
      "cell_type": "code",
      "metadata": {
        "id": "zOpPAJQVw6op"
      },
      "source": [
        "# DBSCAN 함수 \n",
        "\"\"\"\n",
        "eps : 기준점으로부터의 거리\n",
        "min_samples : 반경 내의 점의 개수\n",
        "반환값 : dbscan 군집 결과\n",
        "\"\"\"\n",
        "\n",
        "def clsutering_DBSCAN(dataset,eps, min_samples):\n",
        "  dbscan = DBSCAN(eps = eps, min_samples= min_samples)\n",
        "  predict = dbscan.fit_predict(dataset)\n",
        "\n",
        "  max = predict.max()\n",
        "  \n",
        "  for i in range(len(dataset)):\n",
        "    if predict[i]== -1:\n",
        "      predict[i]= max+1\n",
        "      \n",
        "  return predict "
      ],
      "execution_count": 299,
      "outputs": []
    },
    {
      "cell_type": "code",
      "metadata": {
        "id": "2mYGo3aOxMQs"
      },
      "source": [
        "# ISODATA 함수\n",
        "\n",
        "def initialize_parameters(parameters=None):\n",
        "  # 파라미터 값 지정하기\n",
        "    parameters = {} if not parameters else parameters\n",
        "\n",
        "    def safe_pull_value(parameters, key, default):\n",
        "        return parameters.get(key, default)\n",
        "\n",
        "    # 대략적으로 요구되는 군집 수 (실루엣 값 입력)\n",
        "    K = safe_pull_value(parameters, 'K', 7)\n",
        "\n",
        "    # 최대 Iteration 횟수\n",
        "    I = safe_pull_value(parameters, 'I', 100)\n",
        "\n",
        "    # maximum of number of pairs of clusters which can be merged : 결합될 수 있는 최대 군집 수\n",
        "    P = safe_pull_value(parameters, 'P', 2)\n",
        "\n",
        "    # 군집을 만드는 최소 표본의 개수\n",
        "    THETA_M = safe_pull_value(parameters, 'THETA_M', 20)\n",
        "    # threshold value for standard deviation (for split) Split을 위한 표준편차 (최대 분산 파라미터)\n",
        "    THETA_S = safe_pull_value(parameters, 'THETA_S', 1)\n",
        "    # threshold value for pairwise distances (for merge) Merge가 요구되는 최대 분리 거리\n",
        "    THETA_C = safe_pull_value(parameters, 'THETA_C', 5)\n",
        "\n",
        "    # Iteration 당 Cluster의 변화율\n",
        "    THETA_O = 0.05\n",
        "\n",
        "    # 클러스터 개수의 초기값 설정(random or K)\n",
        "    #k = np.random.randint(1, K)\n",
        "    k = safe_pull_value(parameters, 'k', K)\n",
        "\n",
        "    ret = locals()\n",
        "    ret.pop('safe_pull_value')\n",
        "    ret.pop('parameters')\n",
        "    # 지역변수를 전역변수로 올려주는 역할\n",
        "    globals().update(ret) \n",
        "\n",
        "\n",
        "def initial_clusters(img, k):\n",
        "\n",
        "    \"\"\"\n",
        "    초기 클러스터 임의 설정\n",
        "    \"\"\"\n",
        "    np.random.shuffle(img)\n",
        "    centers = img[0:k]\n",
        "    \n",
        "    return centers\n",
        "\n",
        "def discard_clusters(img_class, centers, clusters_list):\n",
        "\n",
        "    \"\"\"\n",
        "      최소 표본을 만족하지 못한 cluster center 폐기\n",
        "    \"\"\"\n",
        "\n",
        "    k = centers.shape[0]\n",
        "    to_delete = np.array([0])\n",
        "\n",
        "    for cluster in range(0, k):\n",
        "        indices = np.where(img_class == clusters_list[cluster])[0]\n",
        "        total_per_cluster = indices.size\n",
        "\n",
        "        if total_per_cluster <= THETA_M:\n",
        "            to_delete = np.append(to_delete, cluster)\n",
        "    if to_delete.size:\n",
        "        new_centers = np.delete(centers, to_delete, axis=0)\n",
        "        new_clusters_list = np.delete(clusters_list, to_delete)\n",
        "    else:\n",
        "        new_centers = centers\n",
        "        new_clusters_list = clusters_list\n",
        "\n",
        "    return new_centers, new_clusters_list\n",
        "\n",
        "\n",
        "def update_clusters(img, img_class, centers, clusters_list):\n",
        "    cluster = centers.shape[0]\n",
        "\n",
        "    for i in range(cluster):\n",
        "        indices = np.where(img_class == clusters_list[i])[0]\n",
        "        cluster_values = img[indices]\n",
        "        centers[i] = tf.reduce_mean(cluster_values, axis=0)\n",
        "\n",
        "    return centers\n",
        "\n",
        "def split_clusters(img, img_class, centers, clusters_list):\n",
        "    cluster = centers.shape[0]\n",
        "    varicance = []\n",
        "    #sigma = 10\n",
        "\n",
        "    for i in clusters_list:\n",
        "        indices = np.where(img_class == clusters_list[i])[0]\n",
        "        cluster_values = img[indices]\n",
        "        number = indices.size\n",
        "        varicance = np.var(cluster_values, axis=0)\n",
        "        var_max = varicance[np.argmax(varicance)]\n",
        "\n",
        "        if var_max > THETA_S and number > 2*THETA_M:\n",
        "            clusters_list = np.append(clusters_list, clusters_list.size)\n",
        "            a = np.zeros(centers.shape[1])\n",
        "            b = a + var_max\n",
        "            centers[i] = centers[i] - b\n",
        "            centers = np.append(centers, [centers[i] + b], axis=0)\n",
        "\n",
        "    return centers, clusters_list\n",
        "\n",
        "\n",
        "def merge_clusters(img_class, centers, clusters_list):\n",
        "    pair_dists = []\n",
        "    size = centers.shape[1]\n",
        "\n",
        "    for i in range(0, size):\n",
        "        for j in range(0, size):\n",
        "            if i > j:\n",
        "                d = sqrt(cdist([centers[i]], [centers[j]], metric= 'sqeuclidean'))\n",
        "                pair_dists.append((d, (i, j)))\n",
        "    first_p_elements = pair_dists[:P]\n",
        "    below_threshold = [(c1, c2) for d, (c1, c2) in first_p_elements if d < THETA_C]\n",
        "\n",
        "    if below_threshold:\n",
        "        k = centers.shape[1]\n",
        "        count_per_cluster = np.zeros(k)\n",
        "        # new clusters to add\n",
        "        to_add = np.array([]) \n",
        "        # clusters to delete\n",
        "        to_delete = np.array([])  \n",
        "\n",
        "        for cluster in range(0, k):\n",
        "            result = np.where(img_class == clusters_list[cluster])\n",
        "            indices = result[0]\n",
        "            count_per_cluster[cluster] = indices.size\n",
        "\n",
        "        for c1, c2 in below_threshold:\n",
        "            c1_count = float(count_per_cluster[c1])\n",
        "            c2_count = float(count_per_cluster[c2])\n",
        "            factor = 1.0 / (c1_count + c2_count)\n",
        "            weight_c1 = c1_count * centers[c1]\n",
        "            weight_c2 = c2_count * centers[c2]\n",
        "\n",
        "            value = factor * (weight_c1 + weight_c2)\n",
        "\n",
        "            to_add = np.append(to_add, value)\n",
        "            to_delete = np.append(to_delete, [c1, c2])\n",
        "\n",
        "            # delete old clusters and their indices from the availables array\n",
        "            centers = np.delete(centers, to_delete, axis=0)\n",
        "            clusters_list = np.delete(clusters_list, to_delete)\n",
        "\n",
        "            # generate new indices for the new clusters\n",
        "            # starting from the max index 'to_add.size' times\n",
        "            start = int(clusters_list.max())\n",
        "            end = to_add.size + start\n",
        "\n",
        "            centers = np.append(centers, to_add, axis=0)\n",
        "            clusters_list = np.append(clusters_list, range(start, end))\n",
        "            #centers, clusters_list = sort_arrays_by_first(centers, clusters_list)\n",
        "\n",
        "    return centers, clusters_list\n",
        "\n",
        "\n",
        "def clustering_ISODATA(dataset, parameters=None):\n",
        "    global K, I, P, THETA_M, THETA_S, THETA_C, THETA_O, k\n",
        "    initialize_parameters(parameters)\n",
        "    #clusters_list = np.arange(k)  # number of clusters availables\n",
        "    centers = initial_clusters(dataset, k)\n",
        "\n",
        "    for iter in range(0, I):\n",
        "        #last_centers = centers.copy()\n",
        "        # assing each of the samples to the closest cluster center\n",
        "        \n",
        "        k = centers.shape[0]\n",
        "        clusters_list = np.arange(k)\n",
        "        img_class, dists = vq.vq(dataset, centers)\n",
        "        centers, clusters_list = discard_clusters(img_class, centers, clusters_list)\n",
        "\n",
        "        k = centers.shape[0]\n",
        "        clusters_list = np.arange(k)\n",
        "        img_class, dists = vq.vq(dataset, centers)\n",
        "        centers = update_clusters(dataset, img_class, centers, clusters_list)\n",
        "        \n",
        "        k = centers.shape[0]\n",
        "        if k <= (K / 2.0):\n",
        "            centers, clusters_list = split_clusters(dataset, img_class,centers, clusters_list)\n",
        "        elif k > (K * 2.0):\n",
        "            centers, clusters_list = merge_clusters(img_class, centers,clusters_list)\n",
        "        else:\n",
        "            pass\n",
        "        img_class, dists = vq.vq(dataset, centers)\n",
        "\n",
        "    return img_class"
      ],
      "execution_count": 300,
      "outputs": []
    },
    {
      "cell_type": "markdown",
      "metadata": {
        "id": "NEcJyCStBSJr"
      },
      "source": [
        "기타 함수"
      ]
    },
    {
      "cell_type": "code",
      "metadata": {
        "id": "n46OZjCcBy6M"
      },
      "source": [
        "# 실루엣 다이어그램 그리는 함수\n",
        "\n",
        "def plotSilhouette(X, y_km):\n",
        "    cluster_labels = np.unique(y_km)\n",
        "    n_clusters = cluster_labels.shape[0]\n",
        "    silhouette_vals = silhouette_samples(X, y_km, metric = 'euclidean')\n",
        "    y_ax_lower, y_ax_upper = 0, 0\n",
        "    yticks = []\n",
        "\n",
        "    for i, c in enumerate(cluster_labels):\n",
        "        c_silhouette_vals = silhouette_vals[y_km == c]\n",
        "        c_silhouette_vals.sort()\n",
        "        y_ax_upper += len(c_silhouette_vals)\n",
        "        color = cm.jet(i/n_clusters)\n",
        "\n",
        "        plt.barh(range(y_ax_lower, y_ax_upper), c_silhouette_vals, height=1.0,\n",
        "                edgecolor='none', color=color)\n",
        "        yticks.append((y_ax_lower + y_ax_upper)/2)\n",
        "        y_ax_lower += len(c_silhouette_vals)\n",
        "\n",
        "    silhoutte_avg = np.mean(silhouette_vals)\n",
        "    plt.axvline(silhoutte_avg, color = 'red', linestyle='--')\n",
        "    plt.yticks(yticks, cluster_labels+1)\n",
        "    plt.ylabel('K')\n",
        "    plt.xlabel('Silhouette value')\n",
        "    plt.show()\n",
        "\n",
        "\n",
        "#  실루엣 계수 계산 함수\n",
        "#  max_cluster_num : 최대 클러스터 개수(k)\n",
        "#  cluster_num : 추출할 실루엣 계수 높은 클러스터 개수\n",
        "\n",
        "def cal_Silhouette(data,max_cluster_num,cluster_num):\n",
        "  max = []\n",
        "\n",
        "  for i in range(2,max_cluster_num+1):\n",
        "    km=KMeans(n_clusters=i,random_state=10)\n",
        "    km_labels = km.fit_predict(data)\n",
        "    max.append([i,silhouette_score(data, km_labels)])\n",
        "    \n",
        "    max.sort(key=lambda x:x[1],reverse=True)\n",
        "  print(max)\n",
        "# 실루엣 계수 높은 상위 (clust_num)개만 추출해서 클러스터 개수 저장\n",
        "  n_cluster_list=[]\n",
        "\n",
        "  for i in max[0:cluster_num]:\n",
        "    n_cluster_list.append(i[0])\n",
        "\n",
        "  return n_cluster_list\n",
        "\n",
        "def draw_inertia_kshape(dimension_data,MAX_CLUSTER_SIZE=10):\n",
        "\n",
        "  distortions_kshape = []\n",
        "\n",
        "  for i in range(2,MAX_CLUSTER_SIZE+1):\n",
        "    \n",
        "    kshape = KShape(n_clusters=i, max_iter=100)\n",
        "    cluster_found = kshape.fit_predict(dimension_data)\n",
        "    distortions_kshape.append(kshape.inertia_)\n",
        "\n",
        "  plt.plot(range(2,MAX_CLUSTER_SIZE+1), distortions_kshape, marker='o')\n",
        "  plt.xlabel('Number of clusters')\n",
        "  plt.ylabel('Distortion')\n",
        "  plt.show()\n",
        "\n",
        "\"\"\"\n",
        "cluster_list 의 k 값으로 실루엣 다이어그램 작성 함수\n",
        "\n",
        "\"\"\"\n",
        "\n",
        "def draw_Silhouette_Diagram(data, n_cluster_list):\n",
        "  for i in range(len(n_cluster_list)):\n",
        "    print(\"Cluster 개수 : \",n_cluster_list[i])\n",
        "    \n",
        "    km=KMeans(n_clusters=n_cluster_list[i],random_state=10)\n",
        "    km_labels = km.fit_predict(data)\n",
        "    plotSilhouette(data,km_labels)\n",
        "\n",
        "\"\"\"\n",
        "center : cluster center 수\n",
        "data : cluster data\n",
        "\"\"\"\n",
        "\n",
        "def draw_cluster_and_center(data,center):\n",
        "  Kmean=KMeans(n_clusters=center)\n",
        "  Kmean.fit(data)\n",
        "\n",
        "  plt.scatter(data[:,0],data[:,1],s=0.05,c=Kmean.labels_.astype(float))\n",
        "\n",
        "  print(\"Center 개수 : \",center)\n",
        "  for i in range(center):\n",
        "    plt.scatter(Kmean.cluster_centers_[i,0],Kmean.cluster_centers_[i,1],s=50,c='red',marker='s')\n",
        "\n",
        "  plt.show()"
      ],
      "execution_count": 301,
      "outputs": []
    },
    {
      "cell_type": "code",
      "metadata": {
        "id": "_4qXki0N8o9u"
      },
      "source": [
        "# 시계열 데이터 그리는 함수\n",
        "\n",
        "\"\"\"\n",
        "dimenstion_data : 2차원의 데이터\n",
        "predict : 라벨 번호 list (정답)\n",
        "label : 라벨 이름 list\n",
        "\n",
        "\"\"\"\n",
        "def draw_vector_data(dimenstion_data, predict=None,label=None):\n",
        "\n",
        "  plt.figure(figsize=(15,15))\n",
        "  plt.rc('legend', fontsize='20')\n",
        "\n",
        "  if predict is not None:\n",
        "\n",
        "    #n_clusters = set(predict)\n",
        "    #color = cm.rainbow(np.linspace(0, len(n_clusters), dimenstion_data.shape[0]))\n",
        "    \n",
        "    if label is None:\n",
        "      plt.scatter(dimenstion_data[:,0],dimenstion_data[:,1],s=30,c=predict)\n",
        "        \n",
        "    else : \n",
        "      plt.scatter(dimenstion_data[0],dimenstion_data[1],s=30,label=label,c=predict)\n",
        "\n",
        "  else:\n",
        "    plt.scatter(dimenstion_data[:,0],dimenstion_data[:,1],s=30,color='blue')\n",
        "\n"
      ],
      "execution_count": 302,
      "outputs": []
    },
    {
      "cell_type": "code",
      "metadata": {
        "id": "QNFfjv-E8v1k"
      },
      "source": [
        "# 이미지 데이터 그리는 함수\n",
        "\n",
        "\"\"\"\n",
        "image_data : 이미지 데이터\n",
        "title : 제목\n",
        "\n",
        "n_images : 그릴 이미지 수\n",
        "IMG_SIZE : reshape할 이미지 사이즈(image_data의 크기와 반드시 같아야함)\n",
        "\n",
        "\"\"\"\n",
        "\n",
        "def draw_image_data(image_data ,title ,n_images=5, IMG_SIZE=64) :\n",
        "\n",
        "  plt.figure(figsize=(100, 10))\n",
        "  \n",
        "  for i in range(n_images):\n",
        "    ## display original\n",
        "    ax = plt.subplot(1, n_images, i + 1)\n",
        "    ax.set_title(\"Original Image\")\n",
        "    plt.imshow(image_data[i].reshape(IMG_SIZE, IMG_SIZE))\n",
        "    ax.get_xaxis().set_visible(False)\n",
        "    ax.get_yaxis().set_visible(False)"
      ],
      "execution_count": 303,
      "outputs": []
    },
    {
      "cell_type": "markdown",
      "metadata": {
        "id": "mUE5rbH3QP3Z"
      },
      "source": [
        "# ① 데이터 전처리\n",
        "\n",
        "csv로 부터 데이터 받아오기"
      ]
    },
    {
      "cell_type": "code",
      "metadata": {
        "id": "Yh_dTcTf0J5v",
        "colab": {
          "base_uri": "https://localhost:8080/"
        },
        "outputId": "b2e3a7f7-a48c-4c5d-e482-7058262d22fe"
      },
      "source": [
        "# Path를 받아와서 csv 데이터 상위 10개를 보여줌\n",
        "\n",
        "dataset = None\n",
        "embedding_data = None\n",
        "predict = None\n",
        "\n",
        "path = input(\"PATH : \")\n",
        "\n",
        "process_flag = input(\"Process (존재시 1, 존재하지 않을 시 0) : \")\n",
        "outlier_flag = input(\"Outlier (이상치 제거O : 1 / 이상치 제거X : 0) : \")  \n",
        "\n",
        "if process_flag=='1':\n",
        "  value_col = input(\"Value Column : \")\n",
        "  process_col = input('Process Column: ')\n",
        "  dataset = align_timeseries_dataset(path,outlier_flag, value_col,process_col)\n",
        "  \n",
        "else:\n",
        "  value_col = input(\"Value Column : \")\n",
        "  dataset = align_timeseries_dataset(path,outlier_flag,value_col)"
      ],
      "execution_count": 307,
      "outputs": [
        {
          "output_type": "stream",
          "text": [
            "PATH : ./Dataset2.csv\n",
            "Process (존재시 1, 존재하지 않을 시 0) : 1\n",
            "Outlier (이상치 제거O : 1 / 이상치 제거X : 0) : 0\n",
            "Value Column : Value\n",
            "Process Column: Process\n"
          ],
          "name": "stdout"
        },
        {
          "output_type": "stream",
          "text": [
            "/usr/local/lib/python3.7/dist-packages/ipykernel_launcher.py:31: SettingWithCopyWarning: \n",
            "A value is trying to be set on a copy of a slice from a DataFrame\n",
            "\n",
            "See the caveats in the documentation: https://pandas.pydata.org/pandas-docs/stable/user_guide/indexing.html#returning-a-view-versus-a-copy\n",
            "/usr/local/lib/python3.7/dist-packages/ipykernel_launcher.py:47: VisibleDeprecationWarning: Creating an ndarray from ragged nested sequences (which is a list-or-tuple of lists-or-tuples-or ndarrays with different lengths or shapes) is deprecated. If you meant to do this, you must specify 'dtype=object' when creating the ndarray\n"
          ],
          "name": "stderr"
        }
      ]
    },
    {
      "cell_type": "code",
      "metadata": {
        "colab": {
          "base_uri": "https://localhost:8080/"
        },
        "id": "OWF5j-h-r-LU",
        "outputId": "f5786857-1e75-4d30-b990-599019629acf"
      },
      "source": [
        "dataset.shape"
      ],
      "execution_count": 308,
      "outputs": [
        {
          "output_type": "execute_result",
          "data": {
            "text/plain": [
              "(242,)"
            ]
          },
          "metadata": {
            "tags": []
          },
          "execution_count": 308
        }
      ]
    },
    {
      "cell_type": "code",
      "metadata": {
        "id": "u1fAuPvJ1gU6"
      },
      "source": [
        "dataset.max()"
      ],
      "execution_count": null,
      "outputs": []
    },
    {
      "cell_type": "markdown",
      "metadata": {
        "id": "O9-anaKYROmS"
      },
      "source": [
        "데이터 cutting\n"
      ]
    },
    {
      "cell_type": "code",
      "metadata": {
        "colab": {
          "base_uri": "https://localhost:8080/"
        },
        "id": "mBT6Gqy0yT7R",
        "outputId": "2f4e49c6-eba5-4166-cba3-4a0cbd1106b2"
      },
      "source": [
        "preprocessing_flag = 0\n",
        "\n",
        "preprocessing_flag = int(input(\"Data preprocessing( 1 : sliding window / 2 : trunction / 3 : padding / 4 : DTW) : \"))\n",
        "\n",
        "# 1 : sliding window / 2 : trunction / 3 : padding / 4: DTW\n",
        "# 지금은 일단 1로만 가능\n",
        "\n",
        "if preprocessing_flag == 1:\n",
        "  shift_size = int(input('Shift length : '))\n",
        "  window_size = int(input('Window size : '))\n",
        "\n",
        "  dataset = sliding_window(dataset,window_size,shift_size)\n",
        "\n",
        "elif preprocessing_flag == 2:\n",
        "  dataset = data_truncation(dataset)\n",
        "\n",
        "elif preprocessing_flag == 3:\n",
        "  dataset = data_padding(dataset)\n",
        "\n",
        "elif preprocessing_flag == 4:\n",
        "  dataset = data_dtw(dataset)\n",
        "\n",
        "else :\n",
        "  pass"
      ],
      "execution_count": 309,
      "outputs": [
        {
          "output_type": "stream",
          "text": [
            "Data preprocessing( 1 : sliding window / 2 : trunction / 3 : padding / 4 : DTW) : 2\n"
          ],
          "name": "stdout"
        }
      ]
    },
    {
      "cell_type": "code",
      "metadata": {
        "colab": {
          "base_uri": "https://localhost:8080/"
        },
        "id": "g6OUlL44XI_7",
        "outputId": "a2e9caa8-7f06-4047-9051-b29b06291c08"
      },
      "source": [
        "dataset.shape"
      ],
      "execution_count": 310,
      "outputs": [
        {
          "output_type": "execute_result",
          "data": {
            "text/plain": [
              "(242, 163)"
            ]
          },
          "metadata": {
            "tags": []
          },
          "execution_count": 310
        }
      ]
    },
    {
      "cell_type": "markdown",
      "metadata": {
        "id": "t-jX1KYtJflP"
      },
      "source": [
        "#② 잠재 벡터 추출"
      ]
    },
    {
      "cell_type": "code",
      "metadata": {
        "colab": {
          "base_uri": "https://localhost:8080/",
          "height": 880
        },
        "id": "0hzOag7ByNF1",
        "outputId": "5fef2b79-4bc4-4882-abab-72283d494b40"
      },
      "source": [
        "embedding_flag = 0\n",
        "\n",
        "embedding_flag = int(input(\"Embedding (1 : Auto Encoder / 2 : PCA / 3 : UMAP) : \"))\n",
        "\n",
        "# 1 : Auto Encoder / 2 : PCA / 3 : UMAP\n",
        "\n",
        "if embedding_flag == 1:\n",
        "\n",
        "  LEARNING_LATE = float(input('LEARNING_LATE : '))\n",
        "  BATCH_SIZE = int(input('BATCH_SIZE : '))\n",
        "  EPOCHS = int(input('EPOCHS : '))\n",
        "  IMAGING_FLAG = input(\"IMAGING (1 : RP / 2 : GAF) : \")\n",
        "  IMAGE_SIZE_FLAG = input(\"IMAGE SIZE (1 : small / 2 : middle / 3: large) : \")\n",
        "\n",
        "  embedding_data = embedding_AE(dataset,LEARNING_LATE,BATCH_SIZE,EPOCHS,IMAGING_FLAG,IMAGE_SIZE_FLAG)\n",
        "  \n",
        "elif embedding_flag == 2:\n",
        "  embedding_data = embedding_PCA(dataset)\n",
        "\n",
        "elif embedding_flag == 3:\n",
        "  embedding_data = embedding_UMAP(dataset)\n",
        "\n",
        "else :\n",
        "  pass\n",
        "\n",
        "draw_vector_data(embedding_data)"
      ],
      "execution_count": 311,
      "outputs": [
        {
          "output_type": "stream",
          "text": [
            "Embedding (1 : Auto Encoder / 2 : PCA / 3 : UMAP) : 3\n"
          ],
          "name": "stdout"
        },
        {
          "output_type": "display_data",
          "data": {
            "image/png": "[encoded data removed]",
            "text/plain": [
              "<Figure size 1080x1080 with 1 Axes>"
            ]
          },
          "metadata": {
            "tags": [],
            "needs_background": "light"
          }
        }
      ]
    },
    {
      "cell_type": "markdown",
      "metadata": {
        "id": "G0E9Y2Ci4EdK"
      },
      "source": [
        "#③ 클러스터링"
      ]
    },
    {
      "cell_type": "code",
      "metadata": {
        "colab": {
          "base_uri": "https://localhost:8080/",
          "height": 1000
        },
        "id": "oua-fNZg0kEJ",
        "outputId": "63219f1d-e236-4491-af52-e46713af64bc"
      },
      "source": [
        "clustering_flag = 0\n",
        "clustering_flag = int(input(\"Clustering (1 : K-menas / 2: K-shape / 3 : DBSCAN / 4 : ISODATA) :  \"))\n",
        "\n",
        "# 1 : K-menas / 2 : K-shape / 3 : DBSCAN / 4 : ISODATA(ISODATA 수정해야함)\n",
        "\n",
        "if clustering_flag == 1:\n",
        "\n",
        "  MAX_CLUSTER_SIZE = int(input(\"MAX_CLUSTER_SIZE : \"))\n",
        "  clustering_KMEANS(embedding_data,MAX_CLUSTER_SIZE)\n",
        "\n",
        "\n",
        "elif clustering_flag == 2:\n",
        "  MAX_CLUSTER_SIZE = int(input(\"MAX_CLUSTER_SIZE : \"))\n",
        "  draw_inertia_kshape(dataset,MAX_CLUSTER_SIZE)\n",
        "  \n",
        "  N_CLUSTERS = int(input(\"N_CLUSTERS : \"))\n",
        "\n",
        "  predict = clustering_KSHAPE(dataset,n_cluster=N_CLUSTERS)\n",
        "  draw_vector_data(embedding_data,predict)\n",
        "\n",
        "elif clustering_flag == 3:\n",
        "  EPS = float(input(\"EPS : \"))\n",
        "  MIN_SAMPLES = int(input(\"MIN_SAMPLES : \"))\n",
        "\n",
        "  predict = clsutering_DBSCAN(embedding_data,EPS,MIN_SAMPLES)\n",
        "\n",
        "  draw_vector_data(embedding_data,predict)\n",
        "\n",
        "elif clustering_flag == 4:\n",
        "\n",
        "  predict = clustering_ISODATA(embedding_data)\n",
        "  draw_vector_data(embedding_data,predict)\n",
        "else :\n",
        "  pass"
      ],
      "execution_count": 313,
      "outputs": [
        {
          "output_type": "stream",
          "text": [
            "Clustering (1 : K-menas / 2: K-shape / 3 : DBSCAN / 4 : ISODATA) :  2\n",
            "MAX_CLUSTER_SIZE : 10\n"
          ],
          "name": "stdout"
        },
        {
          "output_type": "display_data",
          "data": {
            "image/png": "[encoded data removed]",
            "text/plain": [
              "<Figure size 432x288 with 1 Axes>"
            ]
          },
          "metadata": {
            "tags": [],
            "needs_background": "light"
          }
        },
        {
          "output_type": "stream",
          "text": [
            "N_CLUSTERS : 3\n"
          ],
          "name": "stdout"
        },
        {
          "output_type": "display_data",
          "data": {
            "image/png": "[encoded data removed]",
            "text/plain": [
              "<Figure size 1080x1080 with 1 Axes>"
            ]
          },
          "metadata": {
            "tags": [],
            "needs_background": "light"
          }
        }
      ]
    },
    {
      "cell_type": "code",
      "metadata": {
        "id": "z14ZVXrzaHUr"
      },
      "source": [
        "predict"
      ],
      "execution_count": null,
      "outputs": []
    }
  ]
}