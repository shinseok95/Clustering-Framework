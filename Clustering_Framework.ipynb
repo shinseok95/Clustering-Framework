{
  "nbformat": 4,
  "nbformat_minor": 0,
  "metadata": {
    "colab": {
      "name": "오류 수정(210402).ipynb",
      "provenance": [],
      "collapsed_sections": [],
      "toc_visible": true
    },
    "kernelspec": {
      "name": "python3",
      "display_name": "Python 3"
    }
  },
  "cells": [
    {
      "cell_type": "code",
      "metadata": {
        "id": "hl-l50VKsiGw",
        "colab": {
          "base_uri": "https://localhost:8080/"
        },
        "outputId": "ca593d33-3b0f-4445-ac2f-2b88910095dd"
      },
      "source": [
        "!pip install tslearn\n",
        "!pip uninstall umap\n",
        "!pip install umap-learn\n",
        "\n",
        "import os\n",
        "import keras\n",
        "import tensorflow as tf\n",
        "import keras.backend as K\n",
        "import numpy as np\n",
        "import matplotlib.pyplot as plt\n",
        "import matplotlib.cm as cm \n",
        "import pylab as plt\n",
        "import pandas as pd\n",
        "import glob\n",
        "import math\n",
        "import cv2\n",
        "import pickle\n",
        "import umap.umap_ as umap\n",
        "\n",
        "from fastdtw import fastdtw\n",
        "from scipy.spatial.distance import euclidean, cityblock\n",
        "from math import cos, pi\n",
        "\n",
        "from matplotlib import cm\n",
        "from sklearn import manifold\n",
        "from sklearn.cluster import KMeans\n",
        "from sklearn.metrics import silhouette_score\n",
        "from sklearn.metrics import silhouette_samples\n",
        "from sklearn.datasets import make_blobs\n",
        "from sklearn.preprocessing import StandardScaler, MinMaxScaler\n",
        "from sklearn.utils.linear_assignment_ import linear_assignment\n",
        "from sklearn.neighbors.nearest_centroid import NearestCentroid\n",
        "\n",
        "from sklearn.decomposition import PCA\n",
        "from sklearn.cluster import DBSCAN\n",
        "\n",
        "from tslearn.clustering import KShape\n",
        "\n",
        "from math import sqrt\n",
        "from scipy import stats\n",
        "from scipy.cluster import vq\n",
        "from scipy.spatial.distance import cdist\n",
        "from sklearn.datasets.samples_generator import make_blobs\n",
        "\n",
        "from tensorflow.python.keras.backend import eager_learning_phase_scope\n",
        "from keras.engine.topology import Layer\n",
        "from tensorflow.keras.models import Sequential, Model\n",
        "from tensorflow.keras.layers import Conv2D, Conv2DTranspose, Dense, Flatten, BatchNormalization, Reshape, LeakyReLU,Conv1D, UpSampling1D, MaxPooling1D, Conv1DTranspose, ELU, Dropout,MaxPooling2D, UpSampling2D, concatenate,Activation\n",
        "from keras.layers import Input\n",
        "from keras.optimizers import Adam\n",
        "from tensorflow.keras.callbacks import ModelCheckpoint, EarlyStopping\n",
        "from keras.preprocessing.image import load_img, array_to_img, img_to_array, ImageDataGenerator\n",
        "from keras import optimizers\n",
        "\n",
        "\n",
        "np.set_printoptions(threshold=np.inf) #...없이 출력하기"
      ],
      "execution_count": 1,
      "outputs": [
        {
          "output_type": "stream",
          "text": [
            "Collecting tslearn\n",
            "\u001b[?25l  Downloading https://files.pythonhosted.org/packages/95/98/9a67e2869a8b1416eb6e6fd5e69c56f86869980403b18f30bdb5783ade9d/tslearn-0.5.0.5-cp37-cp37m-manylinux2010_x86_64.whl (790kB)\n",
            "\r\u001b[K     |▍                               | 10kB 14.3MB/s eta 0:00:01\r\u001b[K     |▉                               | 20kB 19.6MB/s eta 0:00:01\r\u001b[K     |█▎                              | 30kB 23.3MB/s eta 0:00:01\r\u001b[K     |█▋                              | 40kB 25.2MB/s eta 0:00:01\r\u001b[K     |██                              | 51kB 24.4MB/s eta 0:00:01\r\u001b[K     |██▌                             | 61kB 21.8MB/s eta 0:00:01\r\u001b[K     |███                             | 71kB 17.9MB/s eta 0:00:01\r\u001b[K     |███▎                            | 81kB 18.6MB/s eta 0:00:01\r\u001b[K     |███▊                            | 92kB 18.4MB/s eta 0:00:01\r\u001b[K     |████▏                           | 102kB 16.5MB/s eta 0:00:01\r\u001b[K     |████▋                           | 112kB 16.5MB/s eta 0:00:01\r\u001b[K     |█████                           | 122kB 16.5MB/s eta 0:00:01\r\u001b[K     |█████▍                          | 133kB 16.5MB/s eta 0:00:01\r\u001b[K     |█████▉                          | 143kB 16.5MB/s eta 0:00:01\r\u001b[K     |██████▏                         | 153kB 16.5MB/s eta 0:00:01\r\u001b[K     |██████▋                         | 163kB 16.5MB/s eta 0:00:01\r\u001b[K     |███████                         | 174kB 16.5MB/s eta 0:00:01\r\u001b[K     |███████▌                        | 184kB 16.5MB/s eta 0:00:01\r\u001b[K     |███████▉                        | 194kB 16.5MB/s eta 0:00:01\r\u001b[K     |████████▎                       | 204kB 16.5MB/s eta 0:00:01\r\u001b[K     |████████▊                       | 215kB 16.5MB/s eta 0:00:01\r\u001b[K     |█████████▏                      | 225kB 16.5MB/s eta 0:00:01\r\u001b[K     |█████████▌                      | 235kB 16.5MB/s eta 0:00:01\r\u001b[K     |██████████                      | 245kB 16.5MB/s eta 0:00:01\r\u001b[K     |██████████▍                     | 256kB 16.5MB/s eta 0:00:01\r\u001b[K     |██████████▊                     | 266kB 16.5MB/s eta 0:00:01\r\u001b[K     |███████████▏                    | 276kB 16.5MB/s eta 0:00:01\r\u001b[K     |███████████▋                    | 286kB 16.5MB/s eta 0:00:01\r\u001b[K     |████████████                    | 296kB 16.5MB/s eta 0:00:01\r\u001b[K     |████████████▍                   | 307kB 16.5MB/s eta 0:00:01\r\u001b[K     |████████████▉                   | 317kB 16.5MB/s eta 0:00:01\r\u001b[K     |█████████████▎                  | 327kB 16.5MB/s eta 0:00:01\r\u001b[K     |█████████████▊                  | 337kB 16.5MB/s eta 0:00:01\r\u001b[K     |██████████████                  | 348kB 16.5MB/s eta 0:00:01\r\u001b[K     |██████████████▌                 | 358kB 16.5MB/s eta 0:00:01\r\u001b[K     |███████████████                 | 368kB 16.5MB/s eta 0:00:01\r\u001b[K     |███████████████▍                | 378kB 16.5MB/s eta 0:00:01\r\u001b[K     |███████████████▊                | 389kB 16.5MB/s eta 0:00:01\r\u001b[K     |████████████████▏               | 399kB 16.5MB/s eta 0:00:01\r\u001b[K     |████████████████▋               | 409kB 16.5MB/s eta 0:00:01\r\u001b[K     |█████████████████               | 419kB 16.5MB/s eta 0:00:01\r\u001b[K     |█████████████████▍              | 430kB 16.5MB/s eta 0:00:01\r\u001b[K     |█████████████████▉              | 440kB 16.5MB/s eta 0:00:01\r\u001b[K     |██████████████████▎             | 450kB 16.5MB/s eta 0:00:01\r\u001b[K     |██████████████████▋             | 460kB 16.5MB/s eta 0:00:01\r\u001b[K     |███████████████████             | 471kB 16.5MB/s eta 0:00:01\r\u001b[K     |███████████████████▌            | 481kB 16.5MB/s eta 0:00:01\r\u001b[K     |████████████████████            | 491kB 16.5MB/s eta 0:00:01\r\u001b[K     |████████████████████▎           | 501kB 16.5MB/s eta 0:00:01\r\u001b[K     |████████████████████▊           | 512kB 16.5MB/s eta 0:00:01\r\u001b[K     |█████████████████████▏          | 522kB 16.5MB/s eta 0:00:01\r\u001b[K     |█████████████████████▌          | 532kB 16.5MB/s eta 0:00:01\r\u001b[K     |██████████████████████          | 542kB 16.5MB/s eta 0:00:01\r\u001b[K     |██████████████████████▍         | 552kB 16.5MB/s eta 0:00:01\r\u001b[K     |██████████████████████▉         | 563kB 16.5MB/s eta 0:00:01\r\u001b[K     |███████████████████████▏        | 573kB 16.5MB/s eta 0:00:01\r\u001b[K     |███████████████████████▋        | 583kB 16.5MB/s eta 0:00:01\r\u001b[K     |████████████████████████        | 593kB 16.5MB/s eta 0:00:01\r\u001b[K     |████████████████████████▌       | 604kB 16.5MB/s eta 0:00:01\r\u001b[K     |████████████████████████▉       | 614kB 16.5MB/s eta 0:00:01\r\u001b[K     |█████████████████████████▎      | 624kB 16.5MB/s eta 0:00:01\r\u001b[K     |█████████████████████████▊      | 634kB 16.5MB/s eta 0:00:01\r\u001b[K     |██████████████████████████▏     | 645kB 16.5MB/s eta 0:00:01\r\u001b[K     |██████████████████████████▌     | 655kB 16.5MB/s eta 0:00:01\r\u001b[K     |███████████████████████████     | 665kB 16.5MB/s eta 0:00:01\r\u001b[K     |███████████████████████████▍    | 675kB 16.5MB/s eta 0:00:01\r\u001b[K     |███████████████████████████▊    | 686kB 16.5MB/s eta 0:00:01\r\u001b[K     |████████████████████████████▏   | 696kB 16.5MB/s eta 0:00:01\r\u001b[K     |████████████████████████████▋   | 706kB 16.5MB/s eta 0:00:01\r\u001b[K     |█████████████████████████████   | 716kB 16.5MB/s eta 0:00:01\r\u001b[K     |█████████████████████████████▍  | 727kB 16.5MB/s eta 0:00:01\r\u001b[K     |█████████████████████████████▉  | 737kB 16.5MB/s eta 0:00:01\r\u001b[K     |██████████████████████████████▎ | 747kB 16.5MB/s eta 0:00:01\r\u001b[K     |██████████████████████████████▊ | 757kB 16.5MB/s eta 0:00:01\r\u001b[K     |███████████████████████████████ | 768kB 16.5MB/s eta 0:00:01\r\u001b[K     |███████████████████████████████▌| 778kB 16.5MB/s eta 0:00:01\r\u001b[K     |████████████████████████████████| 788kB 16.5MB/s eta 0:00:01\r\u001b[K     |████████████████████████████████| 798kB 16.5MB/s \n",
            "\u001b[?25hRequirement already satisfied: joblib in /usr/local/lib/python3.7/dist-packages (from tslearn) (1.0.1)\n",
            "Requirement already satisfied: numpy in /usr/local/lib/python3.7/dist-packages (from tslearn) (1.19.5)\n",
            "Requirement already satisfied: numba in /usr/local/lib/python3.7/dist-packages (from tslearn) (0.51.2)\n",
            "Requirement already satisfied: scikit-learn in /usr/local/lib/python3.7/dist-packages (from tslearn) (0.22.2.post1)\n",
            "Requirement already satisfied: scipy in /usr/local/lib/python3.7/dist-packages (from tslearn) (1.4.1)\n",
            "Requirement already satisfied: Cython in /usr/local/lib/python3.7/dist-packages (from tslearn) (0.29.22)\n",
            "Requirement already satisfied: setuptools in /usr/local/lib/python3.7/dist-packages (from numba->tslearn) (54.2.0)\n",
            "Requirement already satisfied: llvmlite<0.35,>=0.34.0.dev0 in /usr/local/lib/python3.7/dist-packages (from numba->tslearn) (0.34.0)\n",
            "Installing collected packages: tslearn\n",
            "Successfully installed tslearn-0.5.0.5\n",
            "\u001b[33mWARNING: Skipping umap as it is not installed.\u001b[0m\n",
            "Collecting umap-learn\n",
            "\u001b[?25l  Downloading https://files.pythonhosted.org/packages/75/69/85e7f950bb75792ad5d666d86c5f3e62eedbb942848e7e3126513af9999c/umap-learn-0.5.1.tar.gz (80kB)\n",
            "\u001b[K     |████████████████████████████████| 81kB 7.1MB/s \n",
            "\u001b[?25hRequirement already satisfied: numpy>=1.17 in /usr/local/lib/python3.7/dist-packages (from umap-learn) (1.19.5)\n",
            "Requirement already satisfied: scikit-learn>=0.22 in /usr/local/lib/python3.7/dist-packages (from umap-learn) (0.22.2.post1)\n",
            "Requirement already satisfied: scipy>=1.0 in /usr/local/lib/python3.7/dist-packages (from umap-learn) (1.4.1)\n",
            "Requirement already satisfied: numba>=0.49 in /usr/local/lib/python3.7/dist-packages (from umap-learn) (0.51.2)\n",
            "Collecting pynndescent>=0.5\n",
            "\u001b[?25l  Downloading https://files.pythonhosted.org/packages/af/65/8189298dd3a05bbad716ee8e249764ff8800e365d8dc652ad2192ca01b4a/pynndescent-0.5.2.tar.gz (1.1MB)\n",
            "\u001b[K     |████████████████████████████████| 1.2MB 23.8MB/s \n",
            "\u001b[?25hRequirement already satisfied: joblib>=0.11 in /usr/local/lib/python3.7/dist-packages (from scikit-learn>=0.22->umap-learn) (1.0.1)\n",
            "Requirement already satisfied: setuptools in /usr/local/lib/python3.7/dist-packages (from numba>=0.49->umap-learn) (54.2.0)\n",
            "Requirement already satisfied: llvmlite<0.35,>=0.34.0.dev0 in /usr/local/lib/python3.7/dist-packages (from numba>=0.49->umap-learn) (0.34.0)\n",
            "Building wheels for collected packages: umap-learn, pynndescent\n",
            "  Building wheel for umap-learn (setup.py) ... \u001b[?25l\u001b[?25hdone\n",
            "  Created wheel for umap-learn: filename=umap_learn-0.5.1-cp37-none-any.whl size=76569 sha256=2ec45f4d21a66fdabc6b50a4fd43a625de0caf37e1d04b5c58c13e3c8449bc24\n",
            "  Stored in directory: /root/.cache/pip/wheels/ad/df/d5/a3691296ff779f25cd1cf415a3af954b987fb53111e3392cf4\n",
            "  Building wheel for pynndescent (setup.py) ... \u001b[?25l\u001b[?25hdone\n",
            "  Created wheel for pynndescent: filename=pynndescent-0.5.2-cp37-none-any.whl size=51351 sha256=e5f22689663ada842fe3740f41634858c5d81573e0937e517f9e6156900c857a\n",
            "  Stored in directory: /root/.cache/pip/wheels/ba/52/4e/4c28d04d144a28f89e2575fb63628df6e6d49b56c5ddd0c74e\n",
            "Successfully built umap-learn pynndescent\n",
            "Installing collected packages: pynndescent, umap-learn\n",
            "Successfully installed pynndescent-0.5.2 umap-learn-0.5.1\n"
          ],
          "name": "stdout"
        },
        {
          "output_type": "stream",
          "text": [
            "/usr/local/lib/python3.7/dist-packages/sklearn/utils/linear_assignment_.py:22: FutureWarning: The linear_assignment_ module is deprecated in 0.21 and will be removed from 0.23. Use scipy.optimize.linear_sum_assignment instead.\n",
            "  FutureWarning)\n",
            "/usr/local/lib/python3.7/dist-packages/sklearn/utils/deprecation.py:144: FutureWarning: The sklearn.neighbors.nearest_centroid module is  deprecated in version 0.22 and will be removed in version 0.24. The corresponding classes / functions should instead be imported from sklearn.neighbors. Anything that cannot be imported from sklearn.neighbors is now part of the private API.\n",
            "  warnings.warn(message, FutureWarning)\n",
            "/usr/local/lib/python3.7/dist-packages/tslearn/clustering/kmeans.py:17: UserWarning: Scikit-learn <0.24 will be deprecated in a future release of tslearn\n",
            "  \"Scikit-learn <0.24 will be deprecated in a \"\n",
            "/usr/local/lib/python3.7/dist-packages/sklearn/utils/deprecation.py:144: FutureWarning: The sklearn.datasets.samples_generator module is  deprecated in version 0.22 and will be removed in version 0.24. The corresponding classes / functions should instead be imported from sklearn.datasets. Anything that cannot be imported from sklearn.datasets is now part of the private API.\n",
            "  warnings.warn(message, FutureWarning)\n"
          ],
          "name": "stderr"
        }
      ]
    },
    {
      "cell_type": "markdown",
      "metadata": {
        "id": "bW7ZVTviKTWb"
      },
      "source": [
        "# 함수"
      ]
    },
    {
      "cell_type": "markdown",
      "metadata": {
        "id": "TH-iHAr08KFl"
      },
      "source": [
        "Data Proprocessing(0) : CSV로부터 DATA 입력받기"
      ]
    },
    {
      "cell_type": "code",
      "metadata": {
        "id": "sgnNbxjAVbIF"
      },
      "source": [
        "# 데이터 입력 함수\n",
        "\n",
        "\"\"\"\n",
        "path : csv 파일의 경로\n",
        "outlier_flag : 정규화 종류 (1 : 이상치 제거 / 0 : 이상치 보존)\n",
        "value_col : 데이터를 나타내는 칼럼명\n",
        "process_col : 데이터를 구분하는 칼럼명\n",
        "\"\"\"\n",
        "\n",
        "def align_timeseries_dataset(path,outlier_flag, value_col,process_col=None):\n",
        "\n",
        "  if path==None or value_col == None:\n",
        "    return\n",
        "\n",
        "  input_csv = pd.read_csv(path,engine='python',encoding='euc-kr')\n",
        "  input_csv = input_csv.astype({value_col:'float32'})\n",
        "\n",
        "  # 결측치 제거\n",
        "  input_csv=input_csv.dropna(subset=[value_col])\n",
        "\n",
        "  \"\"\"\n",
        "  # outlier 제거 (Z-SCORE (-2.58~2.58) 사이만 남겨둠(99%))\n",
        "\n",
        "  if outlier_flag == '1':\n",
        "\n",
        "    zscore_dataset = z_score_normalize(input_csv[value_col])\n",
        "    input_csv['z_score'] = zscore_dataset\n",
        "\n",
        "    print(input_csv)\n",
        "    print(len(input_csv))\n",
        "    #input_csv = input_csv[input_csv['z_score'].between(-2.58,2.58)]\n",
        "  \"\"\"\n",
        "  \n",
        "  # z_score\n",
        "  zscore_dataset = z_score_normalize(input_csv[value_col])\n",
        "  input_csv['z_score'] = zscore_dataset\n",
        "\n",
        "  # min-max \n",
        "  minmax_dataset = min_max_normalize(input_csv[value_col])\n",
        "  input_csv['min_max'] = minmax_dataset\n",
        "\n",
        "  # 전처리 csv 저장용 DataFrame\n",
        "  preprocessing_csv = pd.DataFrame()\n",
        "\n",
        "  # Process가 존재하지 않는 경우\n",
        "  if process_col == None:\n",
        "    process_set = None\n",
        "    dataset_preprocessing = input_csv['min_max']\n",
        "    dataset=input_csv[value_col]\n",
        "  \n",
        "  # Process가 존재하는 경우 process 별로 데이터 분리\n",
        "  else:\n",
        "    dataset_preprocessing = []\n",
        "    dataset=[]\n",
        "\n",
        "    process_list = input_csv[process_col]\n",
        "    process_set = list(set(process_list))\n",
        "\n",
        "    for process in process_set:\n",
        "      data = input_csv[(input_csv[process_col]==process)]\n",
        "      data_preprocessing = data['min_max']\n",
        "      data_pure = data[value_col]\n",
        "\n",
        "      dataset_preprocessing.append(data_preprocessing)\n",
        "      dataset.append(data_pure)\n",
        "\n",
        "    preprocessing_csv['Process'] = process_list\n",
        "  \n",
        "  preprocessing_csv['Value'] = input_csv[value_col]\n",
        "  preprocessing_csv['z_score']= zscore_dataset\n",
        "  preprocessing_csv['min_max'] = minmax_dataset\n",
        "\n",
        "  return np.array(dataset_preprocessing),preprocessing_csv,process_set,np.array(dataset)"
      ],
      "execution_count": 168,
      "outputs": []
    },
    {
      "cell_type": "markdown",
      "metadata": {
        "id": "wL7h-PryA75d"
      },
      "source": [
        "Data preprocessing function(1) - 시계열 데이터 길이 조절(truncation, padding, sliding window, DTW 등)"
      ]
    },
    {
      "cell_type": "code",
      "metadata": {
        "id": "S0N-I9vfBEhP"
      },
      "source": [
        "# 데이터 자르기 함수\n",
        "\n",
        "def data_truncation(dataset):\n",
        "  \n",
        "  return_dataset = []\n",
        "  max_size = 0\n",
        "  min_size = 999999\n",
        "\n",
        "  for i in range(len(dataset)):\n",
        "    if dataset[i].size < min_size:\n",
        "      min_size=dataset[i].size\n",
        "\n",
        "  for i in range(len(dataset)):\n",
        "    if dataset[i].size > min_size:\n",
        "      return_dataset.append(dataset[i][:min_size])\n",
        "    else:\n",
        "      return_dataset.append(dataset[i])\n",
        "\n",
        "  return np.array(return_dataset)\n",
        "\n",
        "# 데이터 패딩 함수\n",
        "\n",
        "def data_padding(dataset):\n",
        "\n",
        "  return_dataset = []\n",
        "  max_size = 0\n",
        "\n",
        "  for i in range(len(dataset)):\n",
        "    if dataset[i].size > max_size:\n",
        "      max_size=dataset[i].size\n",
        "\n",
        "  for i in range(len(dataset)):\n",
        "    if dataset[i].size < max_size:\n",
        "      return_dataset.append(np.pad(dataset[i], (0,max_size-dataset[i].size), 'constant', constant_values=0))\n",
        "    else:\n",
        "      return_dataset.append(dataset[i])\n",
        "\n",
        "  return np.array(return_dataset)\n",
        "\n",
        "# Sliding window 함수\n",
        "\n",
        "def sliding_window(dataset, window_size = 10 , shift_size = 1):\n",
        "\n",
        "  dataset = tf.data.Dataset.from_tensor_slices(dataset)\n",
        "  dataset = dataset.window(window_size, shift=shift_size, drop_remainder=True)\n",
        "  dataset = dataset.flat_map(lambda window: window.batch(window_size))\n",
        "  return_dataset = list()\n",
        "\n",
        "  for window in dataset:\n",
        "    return_dataset.append(window.numpy())\n",
        "  return_dataset = np.array(return_dataset)\n",
        "\n",
        "  return return_dataset\n",
        "\n",
        "# DTW 유사도를 통한 시계열 데이터 확장 함수 (작은 길이를 큰 길이로 맞춤)\n",
        "\n",
        "def data_dtw(dataset):\n",
        "\n",
        "  return_dataset = []\n",
        "  max_size = 0\n",
        "  max_index = 0\n",
        "\n",
        "  for i in range(len(dataset)):\n",
        "    if dataset[i].size > max_size:\n",
        "      max_size=dataset[i].size\n",
        "      max_index=i\n",
        "\n",
        "  long_ts_data = dataset[max_index]\n",
        "\n",
        "  for i in range(len(dataset)):\n",
        "    if dataset[i].size < max_size:\n",
        "      return_dataset.append(DTW_resize_algorithm(long_ts_data,dataset[i])[0])\n",
        "    else:\n",
        "      return_dataset.append(dataset[i])\n",
        "\n",
        "  return np.array(return_dataset)\n",
        "\n",
        "\n",
        "def DTW_resize_algorithm(long_ts_data, short_ts_data):\n",
        "\n",
        "  if len(long_ts_data) == len(short_ts_data):\n",
        "    return np.array(short_ts_data), np.array([0]*len(short_ts_data))\n",
        "\n",
        "  step = 0\n",
        "  similarity_degree_path = [0]*len(long_ts_data)\n",
        "  long_ts_data = np.array(long_ts_data)\n",
        "  short_ts_data = np.array(short_ts_data)\n",
        "\n",
        "  path_coordinates = fastdtw(short_ts_data, long_ts_data)[1]\n",
        "\n",
        "  for i in range(len(similarity_degree_path)):\n",
        "\n",
        "    similarity_degree_path[i] = (long_ts_data[path_coordinates[step][1]]-short_ts_data[path_coordinates[step][0]])\n",
        "    \n",
        "    for j in range(step+1,len(path_coordinates)):\n",
        "\n",
        "      if path_coordinates[step][1] == path_coordinates[j][1]:\n",
        "        similarity_degree_path[i] = similarity_degree_path[i] + (long_ts_data[path_coordinates[j][1]]-short_ts_data[path_coordinates[j][0]])\n",
        "        step=j\n",
        "        continue\n",
        "\n",
        "      else:\n",
        "        step+=1\n",
        "        break\n",
        "        \n",
        "  resize_ts_data = (long_ts_data - similarity_degree_path)\n",
        "\n",
        "  return np.array(resize_ts_data), np.array(similarity_degree_path)"
      ],
      "execution_count": 169,
      "outputs": []
    },
    {
      "cell_type": "markdown",
      "metadata": {
        "id": "FhsX9jUXAybS"
      },
      "source": [
        "Data preprocessing function(2) - 데이터 정규화 or 일반화"
      ]
    },
    {
      "cell_type": "code",
      "metadata": {
        "id": "kXJK_ZNG8s53"
      },
      "source": [
        "# Min-Max Normalization: 모든 feature들의 스케일이 동일하지만, 이상치(outlier)를 잘 처리하지 못한다.\n",
        "\n",
        "def min_max_normalize(lst):\n",
        "    normalized = []\n",
        "    \n",
        "    min_value = min(lst)\n",
        "    max_value = max(lst)\n",
        "\n",
        "    for value in lst:\n",
        "        normalized_num = (value - min_value) / (max_value -min_value)\n",
        "        normalized.append(normalized_num)\n",
        "    \n",
        "    return np.array(normalized)\n",
        "\n",
        "# Z-Score Normalization : 이상치(outlier)를 잘 처리하지만, 정확히 동일한 척도로 정규화 된 데이터를 생성하지는 않는다.\n",
        "\n",
        "def z_score_normalize(lst):\n",
        "    normalized = []\n",
        "\n",
        "    mean_value = np.mean(lst)\n",
        "    std_value = np.std(lst)\n",
        "    \n",
        "    for value in lst:\n",
        "        normalized_num = (value - mean_value) / std_value\n",
        "        normalized.append(normalized_num)\n",
        "    return np.array(normalized)"
      ],
      "execution_count": 170,
      "outputs": []
    },
    {
      "cell_type": "markdown",
      "metadata": {
        "id": "AZGjqHF7Anzk"
      },
      "source": [
        "Data preprocessing function(3) - 잠재 벡터 추출(UMAP, 이미지화 등)"
      ]
    },
    {
      "cell_type": "code",
      "metadata": {
        "id": "_PL1tD8BBiKF"
      },
      "source": [
        "\"\"\"\n",
        "RP 알고리즘\n",
        "\n",
        "serialize_vector : 시계열 데이터 value vector\n",
        "\"\"\"\n",
        "\n",
        "def RP_algorithm(serialize_vector):\n",
        "\n",
        "    N = serialize_vector.size\n",
        "    S = np.repeat(serialize_vector[None,:],N,axis=0)\n",
        "    Z = np.abs(S-S.T)\n",
        "    Z/=Z.max()\n",
        "    Z*=255\n",
        "    Z = Z.astype('uint8')\n",
        "    Z = np.array(Z)\n",
        "    return Z\n",
        "\n",
        "\"\"\"\n",
        "\n",
        "GAF 알고리즘 \n",
        "\n",
        "\"\"\"\n",
        "\n",
        "def tabulate(x, y, f):\n",
        "    \"\"\"Return a table of f(x, y). Useful for the Gram-like operations.\"\"\"\n",
        "    return np.vectorize(f)(*np.meshgrid(x, y, sparse=True))\n",
        "def cos_sum(a, b):\n",
        "    \"\"\"To work with tabulate.\"\"\"\n",
        "    return(math.cos(a+b))\n",
        "\n",
        "class GAF_algorithm:\n",
        "\n",
        "    def __init__(self):\n",
        "        pass\n",
        "    def __call__(self, serie):\n",
        "        \"\"\"Compute the Gramian Angular Field of an image\"\"\"\n",
        "        # Min-Max scaling\n",
        "        min_ = np.amin(serie)\n",
        "        max_ = np.amax(serie)\n",
        "        scaled_serie = (2*serie - max_ - min_)/(max_ - min_)\n",
        "\n",
        "        # Floating point inaccuracy!\n",
        "        scaled_serie = np.where(scaled_serie >= 1., 1., scaled_serie)\n",
        "        scaled_serie = np.where(scaled_serie <= -1., -1., scaled_serie)\n",
        "\n",
        "        # Polar encoding\n",
        "        phi = np.arccos(scaled_serie)\n",
        "        # Note! The computation of r is not necessary\n",
        "        r = np.linspace(0, 1, len(scaled_serie))\n",
        "\n",
        "        # GAF Computation (every term of the matrix)\n",
        "        gaf = tabulate(phi, phi, cos_sum)\n",
        "\n",
        "        gaf = (1+gaf)*255/2.0\n",
        "\n",
        "        return gaf\n",
        "\n",
        "\"\"\"\n",
        "image_vector : 변경하고자 하는 이미지 리스트\n",
        "img_size : 변경하고자 하는 이미지 크기\n",
        "\"\"\"\n",
        "\n",
        "def resize_img(image_vector_list, img_size):\n",
        "\n",
        "  image_list = []\n",
        "  \n",
        "  for i in range(len(image_vector_list)):\n",
        "\n",
        "    if len(image_vector_list[i]) > img_size:\n",
        "      img = cv2.resize(image_vector_list[i],(img_size,img_size),interpolation = cv2.INTER_AREA)\n",
        "\n",
        "    else:\n",
        "      img = cv2.resize(image_vector_list[i],(img_size,img_size),interpolation = cv2.INTER_LINEAR)\n",
        "\n",
        "    img = img.astype('uint8')\n",
        "    image_list.append(img)\n",
        "\n",
        "  image_list = np.array(image_list)\n",
        "\n",
        "  return image_list"
      ],
      "execution_count": 171,
      "outputs": []
    },
    {
      "cell_type": "code",
      "metadata": {
        "id": "BB_53SpltvQE"
      },
      "source": [
        "# Auto_Encoder 함수\n",
        "\n",
        "\"\"\"\n",
        "\n",
        "dataset : (n,) shape의 데이터\n",
        "LEARNING_LATE : 러닝레이트\n",
        "BATCH_SIZE : 배치사이즈\n",
        "EPOCHS : 에폭\n",
        "TEST_SIZE : traing에서 뽑아낼 test 사이즈(default = 100)\n",
        "IMG_SIZE : 이미지사이즈(default = 64)\n",
        "\n",
        "\"\"\"\n",
        "\n",
        "def embedding_AE(dataset, LEARNING_LATE,BATCH_SIZE,EPOCHS,IMAGING_FLAG = '1',IMG_SIZE_FLAG='1',TEST_SIZE=500):\n",
        "  \n",
        "  np.random.seed(1)\n",
        "  tf.random.set_seed(1)\n",
        "\n",
        "  latent_dim = 2\n",
        "\n",
        "  dataset_img = []\n",
        "\n",
        "  if IMAGING_FLAG == '1':\n",
        "    for i in range(len(dataset)):\n",
        "      dataset_img.append(RP_algorithm(dataset[i]))\n",
        "  else:\n",
        "    gaf = GAF_algorithm()\n",
        "    for i in range(len(dataset)):\n",
        "      dataset_img.append(gaf(dataset[i]))\n",
        "\n",
        "  if IMAGE_SIZE_FLAG == '1':\n",
        "    IMG_SIZE = 64\n",
        "  elif IMAGE_SIZE_FLAG == '2':\n",
        "    IMG_SIZE = 256\n",
        "  else :\n",
        "    IMG_SIZE = 512\n",
        "\n",
        "  \n",
        "  dataset_class_img = resize_img(dataset_img,IMG_SIZE)\n",
        "  dataset_class_img = np.array(dataset_class_img)\n",
        "\n",
        "  dataset_image = dataset_class_img.reshape(len(dataset),IMG_SIZE,IMG_SIZE)\n",
        "\n",
        "  # Image -> train / test로 나누기\n",
        "\n",
        "  train = dataset_image\n",
        "  np.random.shuffle(train)\n",
        "\n",
        "  train = train.reshape(-1,IMG_SIZE,IMG_SIZE,1)\n",
        "\n",
        "  test = train[len(train)-TEST_SIZE:]\n",
        "  train = train[:len(train)-TEST_SIZE]  \n",
        "\n",
        "  # 데이터 정규화\n",
        "\n",
        "  train = train/dataset_image.max()\n",
        "  test = test/dataset_image.max()\n",
        "\n",
        "  # 체크포인트 설정\n",
        "\n",
        "  ae_checkpoint_path = 'AE.ckpt'\n",
        "  ae_checkpoint_dir = os.path.dirname(ae_checkpoint_path)\n",
        "\n",
        "  ae_callback_early = keras.callbacks.EarlyStopping(\n",
        "            monitor='loss',\n",
        "            min_delta=0,\n",
        "            patience=50,\n",
        "            verbose=0,\n",
        "            mode='auto'\n",
        "  )\n",
        "\n",
        "  ae_callback_best = keras.callbacks.ModelCheckpoint(\n",
        "    filepath=ae_checkpoint_path,\n",
        "    monitor='loss',\n",
        "    verbose=0,\n",
        "    save_best_only=True,\n",
        "    save_weights_only=True,\n",
        "    mode='min',\n",
        "    save_freq=1\n",
        "    )\n",
        "  \n",
        "\n",
        "  count=factor(IMG_SIZE)\n",
        "  # AE Layer 설정\n",
        "\n",
        "  encoder_input = Input(shape=(IMG_SIZE,IMG_SIZE,1), name='input')\n",
        "\n",
        "  x = Conv2D(16, 3,strides=2, padding='same',activation='relu')(encoder_input)\n",
        "  x = BatchNormalization()(x)\n",
        "\n",
        "  lenl=32\n",
        "\n",
        "  for i in range(count-4):\n",
        "    x = Conv2D(lenl, 3, strides=2, padding='same',activation='relu')(x)\n",
        "    x = BatchNormalization()(x)\n",
        "    lenl*=2\n",
        "\n",
        "  x = Flatten()(x)\n",
        "  units = x.shape[1]\n",
        "\n",
        "  # 2D 좌표로 표기하기 위하여 2를 출력값으로 지정\n",
        "  embed = Dense(latent_dim,name='embedded')(x)\n",
        "\n",
        "  x = Dense(units)(embed)\n",
        "  x = Reshape((8,8,IMG_SIZE))(x)\n",
        "\n",
        "  lenl=IMG_SIZE/((count%2)+1)\n",
        "  \n",
        "  for i in range(count-4):\n",
        "    x = Conv2DTranspose(lenl, 3, strides=2, padding='same',activation='relu')(x)\n",
        "    x = BatchNormalization()(x)\n",
        "    lenl/=2\n",
        "\n",
        "  decoder_outputs = Conv2DTranspose(1, (3,3), strides=2, padding='same', activation='sigmoid',name='output')(x)\n",
        "\n",
        "  # 오토인코더 실행\n",
        "\n",
        "  autoencoder = Model(encoder_input, decoder_outputs)\n",
        "  autoencoder.compile(optimizer=tf.keras.optimizers.Adam(LEARNING_LATE), loss=tf.keras.losses.MeanSquaredError())\n",
        "\n",
        "  autoencoder.summary()\n",
        "  hist = autoencoder.fit(train, train, batch_size=BATCH_SIZE, epochs=EPOCHS, validation_data =(test,test),shuffle=True,callbacks=[ae_callback_early,ae_callback_best])\n",
        "\n",
        "\n",
        "  # 이미지 그리기\n",
        "\n",
        "  #decoded_images = autoencoder.predict(test)\n",
        "\n",
        "  # draw_image_data(test,\"Original Image\",IMG_SIZE)\n",
        "  # draw_image_data(decoded_images,\"Reproduction Image\",IMG_SIZE)\n",
        "\n",
        "  # 인코딩된 잠재 벡터 \n",
        "\n",
        "  get_embedded = K.function([autoencoder.get_layer('input').input],\n",
        "                                  [autoencoder.get_layer('embedded').output])\n",
        "  \n",
        "  dataset_dimension = np.vstack(get_embedded([dataset_image]))\n",
        "  dataset_dimension_data = np.vstack([dataset_dimension])\n",
        "  dataset_dimension_data = dataset_dimension_data.reshape(-1,latent_dim)\n",
        "\n",
        "  return dataset_dimension_data\n",
        "\n",
        "\n",
        "def factor(n):\n",
        "  count=0\n",
        "  while n%2==0:\n",
        "    count+=1\n",
        "    n=int(n/2)\n",
        "  return count\n"
      ],
      "execution_count": 172,
      "outputs": []
    },
    {
      "cell_type": "code",
      "metadata": {
        "id": "uFvCxp4AtzEl"
      },
      "source": [
        "# UMAP 함수\n",
        "\n",
        "\"\"\"\n",
        "n_components : 축소하고자 하는 차원수\n",
        "_n_neighbors : 작을수록 locality를 잘 나타내고, 커질수록 global structure를 잘 나타냄\n",
        "_min_dist : 얼마나 점들을 조밀하게 묶을 것인지 (낮을 수록 조밀해짐)\n",
        "\"\"\"\n",
        "\n",
        "def embedding_UMAP(dataset,_n_neighbors=50, _min_dist = 0.1):\n",
        "  reducer = umap.UMAP(n_components=2,n_neighbors=_n_neighbors,init='random',random_state=0,min_dist=_min_dist)\n",
        "  embedding = reducer.fit_transform(dataset)\n",
        "  return embedding"
      ],
      "execution_count": 173,
      "outputs": []
    },
    {
      "cell_type": "code",
      "metadata": {
        "id": "aasnkAwgwndv"
      },
      "source": [
        "# PCA 함수\n",
        "\"\"\"\n",
        "n_component : 주성분 분석 개수\n",
        "반환값 : PCA 실행 결과 \n",
        "\"\"\"\n",
        "\n",
        "def embedding_PCA(dataset, n_component=2):\n",
        "  pca = PCA(n_components=n_component)\n",
        "  pca.fit(dataset)\n",
        "  dataset_pca = pca.transform(dataset)\n",
        "  #print(pca.explained_variance_ratio_)\n",
        "  return dataset_pca"
      ],
      "execution_count": 174,
      "outputs": []
    },
    {
      "cell_type": "markdown",
      "metadata": {
        "id": "rH_8GLJhwAtS"
      },
      "source": [
        "Clustering"
      ]
    },
    {
      "cell_type": "code",
      "metadata": {
        "id": "x79WRrQYv_-m"
      },
      "source": [
        "# K-means 함수\n",
        "\n",
        "\"\"\"\n",
        "dimension_data=잠재벡터\n",
        "MAX_CLUSTER_SIZE=최대 군집 개수\n",
        "\"\"\"\n",
        "\n",
        "def clustering_KMEANS(dimension_data,MAX_CLUSTER_SIZE = 10) : \n",
        "  #class_dimension_data=잠재벡터,num_cluster=최대 군집 개수\n",
        "\n",
        "  n_cluster_list = cal_Silhouette(dimension_data,MAX_CLUSTER_SIZE,5)\n",
        "  #best_cluster = n_cluster_list[0]\n",
        "\n",
        "  dimension_data = dimension_data.reshape(-1,2)\n",
        "\n",
        "  Kmean=KMeans(n_clusters=n_cluster_list[0])\n",
        "  Kmean.fit(dimension_data)\n",
        "  \n",
        "  predict = Kmean.predict(dimension_data)\n",
        "\n",
        "  for center in n_cluster_list:\n",
        "    draw_cluster_and_center(dimension_data,center)\n",
        "  \n",
        "  return predict"
      ],
      "execution_count": 175,
      "outputs": []
    },
    {
      "cell_type": "code",
      "metadata": {
        "id": "qVsSgyx7H4R7"
      },
      "source": [
        "# K-shape 함수\n",
        "\n",
        "\"\"\"\n",
        "timeseries_data=\n",
        "n_cluster=군집 수\n",
        "\"\"\"\n",
        "\n",
        "def clustering_KSHAPE(timeseries_data,n_cluster=2) : \n",
        "\n",
        "  ks = KShape(n_clusters=n_cluster)\n",
        "  cluster_found_kshape = ks.fit_predict(timeseries_data)\n",
        "\n",
        "  return cluster_found_kshape"
      ],
      "execution_count": 176,
      "outputs": []
    },
    {
      "cell_type": "code",
      "metadata": {
        "id": "zOpPAJQVw6op"
      },
      "source": [
        "# DBSCAN 함수 \n",
        "\"\"\"\n",
        "eps : 기준점으로부터의 거리\n",
        "min_samples : 반경 내의 점의 개수\n",
        "반환값 : dbscan 군집 결과\n",
        "\"\"\"\n",
        "\n",
        "def clsutering_DBSCAN(dataset,eps, min_samples):\n",
        "  dbscan = DBSCAN(eps = eps, min_samples= min_samples)\n",
        "  predict = dbscan.fit_predict(dataset)\n",
        "      \n",
        "  return predict "
      ],
      "execution_count": 177,
      "outputs": []
    },
    {
      "cell_type": "markdown",
      "metadata": {
        "id": "NEcJyCStBSJr"
      },
      "source": [
        "기타 함수"
      ]
    },
    {
      "cell_type": "code",
      "metadata": {
        "id": "n46OZjCcBy6M"
      },
      "source": [
        "# 실루엣 다이어그램 그리는 함수\n",
        "\n",
        "def plotSilhouette(X, y_km):\n",
        "    cluster_labels = np.unique(y_km)\n",
        "    n_clusters = cluster_labels.shape[0]\n",
        "    silhouette_vals = silhouette_samples(X, y_km, metric = 'euclidean')\n",
        "    y_ax_lower, y_ax_upper = 0, 0\n",
        "    yticks = []\n",
        "\n",
        "    for i, c in enumerate(cluster_labels):\n",
        "        c_silhouette_vals = silhouette_vals[y_km == c]\n",
        "        c_silhouette_vals.sort()\n",
        "        y_ax_upper += len(c_silhouette_vals)\n",
        "        color = cm.jet(i/n_clusters)\n",
        "\n",
        "        plt.barh(range(y_ax_lower, y_ax_upper), c_silhouette_vals, height=1.0,\n",
        "                edgecolor='none', color=color)\n",
        "        yticks.append((y_ax_lower + y_ax_upper)/2)\n",
        "        y_ax_lower += len(c_silhouette_vals)\n",
        "\n",
        "    silhoutte_avg = np.mean(silhouette_vals)\n",
        "    plt.axvline(silhoutte_avg, color = 'red', linestyle='--')\n",
        "    plt.yticks(yticks, cluster_labels+1)\n",
        "    plt.ylabel('K')\n",
        "    plt.xlabel('Silhouette value')\n",
        "    plt.show()\n",
        "\n",
        "\n",
        "#  실루엣 계수 계산 함수\n",
        "#  max_cluster_num : 최대 클러스터 개수(k)\n",
        "#  cluster_num : 추출할 실루엣 계수 높은 클러스터 개수\n",
        "\n",
        "def cal_Silhouette(data,max_cluster_num,cluster_num):\n",
        "  max = []\n",
        "\n",
        "  for i in range(2,max_cluster_num+1):\n",
        "    km=KMeans(n_clusters=i,random_state=10)\n",
        "    km_labels = km.fit_predict(data)\n",
        "    max.append([i,silhouette_score(data, km_labels)])\n",
        "    \n",
        "    max.sort(key=lambda x:x[1],reverse=True)\n",
        "  print(max)\n",
        "# 실루엣 계수 높은 상위 (clust_num)개만 추출해서 클러스터 개수 저장\n",
        "  n_cluster_list=[]\n",
        "\n",
        "  for i in max[0:cluster_num]:\n",
        "    n_cluster_list.append(i[0])\n",
        "\n",
        "  return n_cluster_list\n",
        "\n",
        "def draw_inertia_kshape(dimension_data,MAX_CLUSTER_SIZE=10):\n",
        "\n",
        "  distortions_kshape = []\n",
        "\n",
        "  for i in range(2,MAX_CLUSTER_SIZE+1):\n",
        "    \n",
        "    kshape = KShape(n_clusters=i, max_iter=100)\n",
        "    cluster_found = kshape.fit_predict(dimension_data)\n",
        "    distortions_kshape.append(kshape.inertia_)\n",
        "\n",
        "  plt.plot(range(2,MAX_CLUSTER_SIZE+1), distortions_kshape, marker='o')\n",
        "  plt.xlabel('Number of clusters')\n",
        "  plt.ylabel('Distortion')\n",
        "  plt.show()\n",
        "\n",
        "\"\"\"\n",
        "cluster_list 의 k 값으로 실루엣 다이어그램 작성 함수\n",
        "\n",
        "\"\"\"\n",
        "\n",
        "def draw_Silhouette_Diagram(data, n_cluster_list):\n",
        "  for i in range(len(n_cluster_list)):\n",
        "    print(\"Cluster 개수 : \",n_cluster_list[i])\n",
        "    \n",
        "    km=KMeans(n_clusters=n_cluster_list[i],random_state=10)\n",
        "    km_labels = km.fit_predict(data)\n",
        "    plotSilhouette(data,km_labels)\n",
        "\n",
        "\"\"\"\n",
        "center : cluster center 수\n",
        "data : cluster data\n",
        "\"\"\"\n",
        "\n",
        "def draw_cluster_and_center(data,center):\n",
        "  Kmean=KMeans(n_clusters=center)\n",
        "  Kmean.fit(data)\n",
        "\n",
        "  plt.scatter(data[:,0],data[:,1],s=0.05,c=Kmean.labels_.astype(float))\n",
        "\n",
        "  print(\"Center 개수 : \",center)\n",
        "  for i in range(center):\n",
        "    plt.scatter(Kmean.cluster_centers_[i,0],Kmean.cluster_centers_[i,1],s=50,c='red',marker='s')\n",
        "\n",
        "  plt.show()"
      ],
      "execution_count": 178,
      "outputs": []
    },
    {
      "cell_type": "code",
      "metadata": {
        "id": "_4qXki0N8o9u"
      },
      "source": [
        "# 시계열 데이터 그리는 함수\n",
        "\n",
        "\"\"\"\n",
        "dimenstion_data : 2차원의 데이터\n",
        "predict : 라벨 번호 list (정답)\n",
        "label : 라벨 이름 list\n",
        "\n",
        "\"\"\"\n",
        "def draw_vector_data(dimenstion_data, predict=None,label=None, center = None):\n",
        "\n",
        "  plt.figure(figsize=(15,15))\n",
        "  plt.rc('legend', fontsize='20')\n",
        "\n",
        "  if predict is not None:\n",
        "    if label is None:\n",
        "      if center is None:\n",
        "        plt.scatter(dimenstion_data[:,0],dimenstion_data[:,1],s=30,c=predict)\n",
        "      else:\n",
        "        plt.scatter(dimenstion_data[:,0],dimenstion_data[:,1],s=30,c=predict)\n",
        "        plt.scatter(center[:,0],center[:,1],s=50,c='red',marker='s')\n",
        "    else : \n",
        "      plt.scatter(dimenstion_data[0],dimenstion_data[1],s=30,label=label,c=predict)\n",
        "\n",
        "  else:\n",
        "    plt.scatter(dimenstion_data[:,0],dimenstion_data[:,1],s=30,color='blue')\n"
      ],
      "execution_count": 179,
      "outputs": []
    },
    {
      "cell_type": "code",
      "metadata": {
        "id": "QNFfjv-E8v1k"
      },
      "source": [
        "# 이미지 데이터 그리는 함수\n",
        "\n",
        "\"\"\"\n",
        "image_data : 이미지 데이터\n",
        "title : 제목\n",
        "\n",
        "n_images : 그릴 이미지 수\n",
        "IMG_SIZE : reshape할 이미지 사이즈(image_data의 크기와 반드시 같아야함)\n",
        "\n",
        "\"\"\"\n",
        "\n",
        "def draw_image_data(image_data ,title ,n_images=5, IMG_SIZE=64) :\n",
        "\n",
        "  plt.figure(figsize=(100, 10))\n",
        "  \n",
        "  for i in range(n_images):\n",
        "    ## display original\n",
        "    ax = plt.subplot(1, n_images, i + 1)\n",
        "    ax.set_title(\"Original Image\")\n",
        "    plt.imshow(image_data[i].reshape(IMG_SIZE, IMG_SIZE))\n",
        "    ax.get_xaxis().set_visible(False)\n",
        "    ax.get_yaxis().set_visible(False)"
      ],
      "execution_count": 180,
      "outputs": []
    },
    {
      "cell_type": "code",
      "metadata": {
        "id": "F4i8eRIiWEr9"
      },
      "source": [
        "# 전처리데이터 다운로드 함수\n",
        "\n",
        "def download_csv(path,dataframe,file_name): \n",
        "\n",
        "  split_path=path.split('/')\n",
        "  del split_path[-1]\n",
        "  \n",
        "  higher_path=\"/\".join(split_path)\n",
        "  dataframe.to_csv(higher_path+'/'+file_name+'.csv')"
      ],
      "execution_count": 181,
      "outputs": []
    },
    {
      "cell_type": "code",
      "metadata": {
        "id": "oG07w4n6aLaO"
      },
      "source": [
        "# Outlier 보여주는 함수\n",
        "\n",
        "def show_outlier(cutting_dataset,process_label,predict):\n",
        "  outlier_list = []\n",
        "\n",
        "  for index, value in enumerate(predict):\n",
        "    if value == -1:\n",
        "      outlier_list.append(index)\n",
        "\n",
        "  if len(outlier_list) == 0:\n",
        "    return\n",
        "  \n",
        "  outlier_list = np.array(outlier_list)\n",
        "  \n",
        "  draw_cnt = int(input(\"출력할 이상치 개수(현재 {}개의 이상치 탐색)\".format(len(outlier_list))))\n",
        "\n",
        "  if draw_cnt == 0:\n",
        "    return\n",
        "    \n",
        "  for i in range(draw_cnt):\n",
        "    idx = outlier_list[i]\n",
        "    col_name = \"Process \"+str(process_label[idx])\n",
        "    index_df = pd.DataFrame(cutting_dataset[idx],columns=[col_name])\n",
        "    ax= index_df.plot()\n",
        "\n",
        "  return ax  "
      ],
      "execution_count": 182,
      "outputs": []
    },
    {
      "cell_type": "code",
      "metadata": {
        "id": "WMwQvvsE3LlQ"
      },
      "source": [
        "\"\"\"\n",
        "show_scatter_to_plot : x,y 값으로 plot 그리는 함수\n",
        "show_index_to_plot : index로 plot 그리는 함수\n",
        "find_centroid_index : centroid와 가장 가까운 데이터(index,value) 반환하는 함수\n",
        "\"\"\"\n",
        "\n",
        "def whereclose(a, b, rtol=1e-05, atol=1e-08):\n",
        "    return np.where(isclose(a, b, rtol, atol))\n",
        "\n",
        "def isclose(a, b, rtol=1e-05, atol=1e-08):\n",
        "    return np.abs(a-b) <= (atol + rtol * np.abs(b))\n",
        "\n",
        "def find_scatter_index(embedding,x_value,y_value):\n",
        "  finded_idx = whereclose(embedding,x_value)[0]\n",
        "  \n",
        "  for idx in finded_idx:\n",
        "    if isclose(embedding[idx][1],y_value):\n",
        "      return idx\n",
        "\n",
        "  return None\n",
        "\n",
        "def show_scatter_to_plot(embedding_dataset, cutting_dataset,process_label,x_value,y_value):\n",
        "\n",
        "  idx = find_scatter_index(embedding_data,x_value, y_value )\n",
        "\n",
        "  if idx is None:\n",
        "    return\n",
        "  \n",
        "  finded_process = process_label[idx]\n",
        "  col_name = \"Process \"+str(finded_process)\n",
        "  index_df = pd.DataFrame(cutting_dataset[idx],columns=[col_name])\n",
        "  ax= index_df.plot()\n",
        "\n",
        "  return ax  \n",
        "\n",
        "def show_index_to_plot(cutting_dataset,process_label,index):\n",
        "\n",
        "  if index is None:\n",
        "    return\n",
        "  \n",
        "  finded_process = process_label[index]\n",
        "  col_name = \"Process \"+str(finded_process)\n",
        "  index_df = pd.DataFrame(cutting_dataset[index],columns=[col_name])\n",
        "  ax= index_df.plot()\n",
        "\n",
        "  return ax  \n",
        "\n",
        "def find_centroid_index(embedding,predict):\n",
        "\n",
        "  X = np.array(embedding_data)\n",
        "  y = np.array(predict)\n",
        "  clf = NearestCentroid()\n",
        "  clf.fit(X, y)\n",
        "\n",
        "  centroid = clf.centroids_\n",
        "  centroid_idx = []\n",
        "\n",
        "  predict_set = list(sorted(set(predict)))\n",
        "  \n",
        "  if predict_set[0] == -1:\n",
        "    del predict_set[0]\n",
        "\n",
        "  for i in predict_set:\n",
        "    closet_idx = None\n",
        "    closet_distance = None\n",
        "\n",
        "    for j in range(len(embedding)):\n",
        "      if predict[j] == i :\n",
        "        if closet_idx is None and closet_distance is None:\n",
        "          closet_idx = j\n",
        "          closet_distance = euclidean(centroid[i],embedding[j])\n",
        "        else:\n",
        "          tmp_distance = euclidean(centroid[i],embedding[j])\n",
        "          if closet_distance > tmp_distance:\n",
        "            closet_idx = j\n",
        "            closet_distance = tmp_distance\n",
        "\n",
        "    centroid_idx.append(closet_idx)\n",
        "  return centroid_idx,centroid"
      ],
      "execution_count": 183,
      "outputs": []
    },
    {
      "cell_type": "markdown",
      "metadata": {
        "id": "mUE5rbH3QP3Z"
      },
      "source": [
        "# ① 데이터 전처리\n",
        "\n",
        "csv로 부터 데이터 받아오기"
      ]
    },
    {
      "cell_type": "code",
      "metadata": {
        "id": "Yh_dTcTf0J5v",
        "colab": {
          "base_uri": "https://localhost:8080/"
        },
        "outputId": "dbbbf5b8-35f4-487e-ff8d-6b872903f98e"
      },
      "source": [
        "# Path를 받아와서 csv 데이터 상위 10개를 보여줌\n",
        "\n",
        "dataset = None\n",
        "dataset_pure = None\n",
        "dataset_pure_list =None\n",
        "cutting_dataset = None\n",
        "cutting_dataset_pure = None\n",
        "embedding_data = None\n",
        "predict = None\n",
        "\n",
        "process_label= None\n",
        "preprocessing_csv = None\n",
        "embedding_csv = None\n",
        "\n",
        "path = input(\"PATH : \")\n",
        "\n",
        "process_flag = input(\"Process (존재시 1, 존재하지 않을 시 0) : \")\n",
        "#outlier_flag = input(\"Outlier (이상치 제거O : 1 / 이상치 제거X : 0) : \")  \n",
        "preprocessing_down_flag = input(\"Preprocessing CSV 저장 (저장 : 1, 저장 X : 0) : \")\n",
        "outlier_flag = '0'\n",
        "\n",
        "if process_flag=='1':\n",
        "  value_col = input(\"Value Column : \")\n",
        "  process_col = input('Process Column: ')\n",
        "  dataset,preprocessing_csv,process_label,dataset_pure = align_timeseries_dataset(path,outlier_flag, value_col,process_col)\n",
        "  \n",
        "  dataset_pure_list = []\n",
        "\n",
        "  for i in range(len(dataset_pure)):\n",
        "    dataset_pure_list.append(list(dataset_pure[i]))\n",
        "\n",
        "else:\n",
        "  value_col = input(\"Value Column : \")\n",
        "  dataset,preprocessing_csv,process_label,dataset_pure = align_timeseries_dataset(path,outlier_flag,value_col)\n",
        "\n",
        "if preprocessing_down_flag =='1':\n",
        "  download_csv(path,preprocessing_csv,'preprocessing_data')\n",
        "else:\n",
        "  pass"
      ],
      "execution_count": 184,
      "outputs": [
        {
          "output_type": "stream",
          "text": [
            "PATH : ./Degradation Level Index.csv\n",
            "Process (존재시 1, 존재하지 않을 시 0) : 1\n",
            "Preprocessing CSV 저장 (저장 : 1, 저장 X : 0) : 0\n",
            "Value Column : value\n",
            "Process Column: id\n"
          ],
          "name": "stdout"
        },
        {
          "output_type": "stream",
          "text": [
            "/usr/local/lib/python3.7/dist-packages/ipykernel_launcher.py:73: VisibleDeprecationWarning: Creating an ndarray from ragged nested sequences (which is a list-or-tuple of lists-or-tuples-or ndarrays with different lengths or shapes) is deprecated. If you meant to do this, you must specify 'dtype=object' when creating the ndarray\n"
          ],
          "name": "stderr"
        }
      ]
    },
    {
      "cell_type": "markdown",
      "metadata": {
        "id": "O9-anaKYROmS"
      },
      "source": [
        "데이터 cutting\n"
      ]
    },
    {
      "cell_type": "code",
      "metadata": {
        "colab": {
          "base_uri": "https://localhost:8080/"
        },
        "id": "mBT6Gqy0yT7R",
        "outputId": "86e96e71-70a0-4472-eefa-769336f43162"
      },
      "source": [
        "preprocessing_flag = 0\n",
        "\n",
        "# Process가 있는 경우 : /1 : trunction / 2 : padding / 3: DTW\n",
        "\n",
        "if process_flag == '1':\n",
        "\n",
        "  preprocessing_flag = int(input(\"Data preprocessing(1 : trunction / 2 : padding / 3 : DTW) : \"))\n",
        "\n",
        "  if preprocessing_flag == 1:\n",
        "    cutting_dataset = data_truncation(dataset)\n",
        "    cutting_dataset_pure = data_truncation(dataset_pure)\n",
        "\n",
        "  elif preprocessing_flag == 2:\n",
        "    cutting_dataset = data_padding(dataset)\n",
        "    cutting_dataset_pure = data_padding(dataset_pure)\n",
        "\n",
        "  elif preprocessing_flag == 3:\n",
        "    cutting_dataset = data_dtw(dataset)\n",
        "    cutting_dataset_pure = data_dtw(dataset_pure)\n",
        "\n",
        "  else :\n",
        "    pass\n",
        "\n",
        "# Process가 없는 경우 : sliding window \n",
        "\n",
        "else:\n",
        "  shift_size = int(input('Shift length : '))\n",
        "  window_size = int(input('Window size : '))\n",
        "  cutting_dataset = sliding_window(dataset,window_size,shift_size)\n",
        "  cutting_dataset_pure = sliding_window(dataset_pure,window_size,shift_size)\n",
        "\n",
        "  dataset_pure_list = []\n",
        "  process_label = []\n",
        "  \n",
        "  for i in range(len(cutting_dataset_pure)):\n",
        "    dataset_pure_list.append(list(cutting_dataset_pure[i]))\n",
        "    process_label.append(i)    \n",
        "\n",
        "print('현재 데이터 수 : {}'.format(len(cutting_dataset)))\n",
        "print('데이터 길이 : {}'.format(len(cutting_dataset[0])))"
      ],
      "execution_count": 204,
      "outputs": [
        {
          "output_type": "stream",
          "text": [
            "Data preprocessing(1 : trunction / 2 : padding / 3 : DTW) : 2\n",
            "현재 데이터 수 : 153\n",
            "데이터 길이 : 525\n"
          ],
          "name": "stdout"
        }
      ]
    },
    {
      "cell_type": "markdown",
      "metadata": {
        "id": "t-jX1KYtJflP"
      },
      "source": [
        "#② 잠재 벡터 추출"
      ]
    },
    {
      "cell_type": "code",
      "metadata": {
        "colab": {
          "base_uri": "https://localhost:8080/",
          "height": 948
        },
        "id": "0hzOag7ByNF1",
        "outputId": "6f45fdaf-cda4-41be-e00b-b2e07f310c28"
      },
      "source": [
        "embedding_flag = 0\n",
        "\n",
        "embedding_flag = int(input(\"Embedding (1 : Auto Encoder / 2 : PCA / 3 : UMAP) : \"))\n",
        "\n",
        "# 1 : Auto Encoder / 2 : PCA / 3 : UMAP\n",
        "\n",
        "if embedding_flag == 1:\n",
        "\n",
        "  LEARNING_LATE = float(input('LEARNING_LATE : '))\n",
        "  BATCH_SIZE = int(input('BATCH_SIZE : '))\n",
        "  EPOCHS = int(input('EPOCHS : '))\n",
        "  IMAGING_FLAG = input(\"IMAGING (1 : RP / 2 : GAF) : \")\n",
        "  IMAGE_SIZE_FLAG = input(\"IMAGE SIZE (1 : small / 2 : middle / 3: large) : \")\n",
        "  TEST_SIZE = int(input(\"TEST SIZE : \"))\n",
        "  \n",
        "  # 데이터 사이즈 안맞추고, 이미지화 한 이후에 맞추기\n",
        "  #embedding_data = embedding_AE(dataset,LEARNING_LATE,BATCH_SIZE,EPOCHS,IMAGING_FLAG,IMAGE_SIZE_FLAG,TEST_SIZE=TEST_SIZE)\n",
        "  # 데이터 사이즈 맞추고, 이미지화하기\n",
        "  embedding_data = embedding_AE(cutting_dataset,LEARNING_LATE,BATCH_SIZE,EPOCHS,IMAGING_FLAG,IMAGE_SIZE_FLAG,TEST_SIZE=TEST_SIZE)\n",
        "\n",
        "elif embedding_flag == 2:\n",
        "  embedding_data = embedding_PCA(cutting_dataset)\n",
        "\n",
        "elif embedding_flag == 3:\n",
        "\n",
        "  umap_flag = input('파라미터 조절 (1. Default / 0. 사용자 정의) : ')\n",
        "\n",
        "  if umap_flag =='1':\n",
        "    embedding_data = embedding_UMAP(cutting_dataset)\n",
        "  else:\n",
        "    _n_neighbors=int(input('n_neighbors : ')) \n",
        "    _min_dist = float(input('min_dist : '))\n",
        "    embedding_data = embedding_UMAP(cutting_dataset,_n_neighbors,_min_dist)\n",
        "\n",
        "else :\n",
        "  pass\n",
        "\n",
        "embedding_down_flag = input(\"Embedding CSV 저장 (저장 : 1, 저장 X : 0) : \")\n",
        "\n",
        "if embedding_down_flag =='1':\n",
        "\n",
        "  embedding_x = []\n",
        "  embedding_y = []\n",
        "  embedding_csv = pd.DataFrame()\n",
        "\n",
        "  for data in embedding_data:\n",
        "    embedding_x.append(data[0])\n",
        "    embedding_y.append(data[1])\n",
        "\n",
        "  if process_label != None:\n",
        "    embedding_csv['Process'] = process_label\n",
        "\n",
        "  embedding_csv['X'] = embedding_x\n",
        "  embedding_csv['Y'] = embedding_y\n",
        "  \n",
        "  download_csv(path,embedding_csv,'embedding_data')\n",
        "else:\n",
        "  pass\n",
        "\n",
        "draw_vector_data(embedding_data)"
      ],
      "execution_count": 207,
      "outputs": [
        {
          "output_type": "stream",
          "text": [
            "Embedding (1 : Auto Encoder / 2 : PCA / 3 : UMAP) : 3\n",
            "파라미터 조절 (1. Default / 0. 사용자 정의) : 0\n",
            "n_neighbors : 5\n",
            "min_dist : 0.1\n",
            "Embedding CSV 저장 (저장 : 1, 저장 X : 0) : 0\n"
          ],
          "name": "stdout"
        },
        {
          "output_type": "display_data",
          "data": {
            "image/png": "[encoded data removed]",
            "text/plain": [
              "<Figure size 1080x1080 with 1 Axes>"
            ]
          },
          "metadata": {
            "tags": [],
            "needs_background": "light"
          }
        }
      ]
    },
    {
      "cell_type": "markdown",
      "metadata": {
        "id": "G0E9Y2Ci4EdK"
      },
      "source": [
        "#③ 클러스터링"
      ]
    },
    {
      "cell_type": "code",
      "metadata": {
        "colab": {
          "base_uri": "https://localhost:8080/",
          "height": 1000
        },
        "id": "oua-fNZg0kEJ",
        "outputId": "183ac359-558f-4aad-a0c1-6b5803e83fa9"
      },
      "source": [
        "clustering_flag = 0\n",
        "clustering_flag = int(input(\"Clustering (1 : K-menas / 2: K-shape / 3 : DBSCAN) :  \"))\n",
        "\n",
        "# 1 : K-menas / 2 : K-shape / 3 : DBSCAN)\n",
        "\n",
        "if clustering_flag == 1:\n",
        "\n",
        "  MAX_CLUSTER_SIZE = int(input(\"MAX_CLUSTER_SIZE : \"))\n",
        "  predict = clustering_KMEANS(embedding_data,MAX_CLUSTER_SIZE)\n",
        "\n",
        "  centroid_idx,centroid_value = find_centroid_index(embedding_data,predict)\n",
        "  \n",
        "  for i in centroid_idx:\n",
        "    show_index_to_plot(dataset_pure_list,process_label,i)\n",
        "\n",
        "\n",
        "elif clustering_flag == 2:\n",
        "  MAX_CLUSTER_SIZE = int(input(\"MAX_CLUSTER_SIZE : \"))\n",
        "  draw_inertia_kshape(cutting_dataset,MAX_CLUSTER_SIZE)\n",
        "  \n",
        "  N_CLUSTERS = int(input(\"N_CLUSTERS : \"))\n",
        "\n",
        "  predict = clustering_KSHAPE(cutting_dataset,n_cluster=N_CLUSTERS)\n",
        "  draw_vector_data(embedding_data,predict)\n",
        "\n",
        "  centroid_idx,centroid_value = find_centroid_index(embedding_data,predict)\n",
        "\n",
        "  for i in centroid_idx:\n",
        "    show_index_to_plot(dataset_pure_list,process_label,i)\n",
        "\n",
        "elif clustering_flag == 3:\n",
        "  EPS = float(input(\"EPS : \"))\n",
        "  MIN_SAMPLES = int(input(\"MIN_SAMPLES : \"))\n",
        "\n",
        "  predict = clsutering_DBSCAN(embedding_data,EPS,MIN_SAMPLES)\n",
        "  \n",
        "  if len(set(predict)) >1:\n",
        "    \n",
        "    centroid_idx,centroid_value = find_centroid_index(embedding_data,predict)\n",
        "    draw_vector_data(embedding_data,predict,center=centroid_value)\n",
        "    \n",
        "    for i in centroid_idx:\n",
        "      show_index_to_plot(dataset_pure_list,process_label,i)\n",
        "  \n",
        "  else:\n",
        "    draw_vector_data(embedding_data,predict)\n",
        "\n",
        "  if process_label != None:\n",
        "    show_outlier(dataset_pure_list,process_label,predict)\n",
        "\n",
        "else :\n",
        "  pass"
      ],
      "execution_count": 208,
      "outputs": [
        {
          "output_type": "stream",
          "text": [
            "Clustering (1 : K-menas / 2: K-shape / 3 : DBSCAN) :  1\n",
            "MAX_CLUSTER_SIZE : 10\n",
            "[[3, 0.68349016], [4, 0.68182665], [6, 0.6736835], [5, 0.6692369], [8, 0.63210344], [7, 0.6148279], [9, 0.6068968], [10, 0.5822307], [2, 0.5698158]]\n",
            "Center 개수 :  3\n"
          ],
          "name": "stdout"
        },
        {
          "output_type": "display_data",
          "data": {
            "image/png": "[encoded data removed]",
            "text/plain": [
              "<Figure size 432x288 with 1 Axes>"
            ]
          },
          "metadata": {
            "tags": [],
            "needs_background": "light"
          }
        },
        {
          "output_type": "stream",
          "text": [
            "Center 개수 :  4\n"
          ],
          "name": "stdout"
        },
        {
          "output_type": "display_data",
          "data": {
            "image/png": "[encoded data removed]",
            "text/plain": [
              "<Figure size 432x288 with 1 Axes>"
            ]
          },
          "metadata": {
            "tags": [],
            "needs_background": "light"
          }
        },
        {
          "output_type": "stream",
          "text": [
            "Center 개수 :  6\n"
          ],
          "name": "stdout"
        },
        {
          "output_type": "display_data",
          "data": {
            "image/png": "[encoded data removed]",
            "text/plain": [
              "<Figure size 432x288 with 1 Axes>"
            ]
          },
          "metadata": {
            "tags": [],
            "needs_background": "light"
          }
        },
        {
          "output_type": "stream",
          "text": [
            "Center 개수 :  5\n"
          ],
          "name": "stdout"
        },
        {
          "output_type": "display_data",
          "data": {
            "image/png": "[encoded data removed]",
            "text/plain": [
              "<Figure size 432x288 with 1 Axes>"
            ]
          },
          "metadata": {
            "tags": [],
            "needs_background": "light"
          }
        },
        {
          "output_type": "stream",
          "text": [
            "Center 개수 :  8\n"
          ],
          "name": "stdout"
        },
        {
          "output_type": "display_data",
          "data": {
            "image/png": "[encoded data removed]",
            "text/plain": [
              "<Figure size 432x288 with 1 Axes>"
            ]
          },
          "metadata": {
            "tags": [],
            "needs_background": "light"
          }
        },
        {
          "output_type": "display_data",
          "data": {
            "image/png": "[encoded data removed]",
            "text/plain": [
              "<Figure size 432x288 with 1 Axes>"
            ]
          },
          "metadata": {
            "tags": [],
            "needs_background": "light"
          }
        },
        {
          "output_type": "display_data",
          "data": {
            "image/png": "[encoded data removed]",
            "text/plain": [
              "<Figure size 432x288 with 1 Axes>"
            ]
          },
          "metadata": {
            "tags": [],
            "needs_background": "light"
          }
        },
        {
          "output_type": "display_data",
          "data": {
            "image/png": "[encoded data removed]",
            "text/plain": [
              "<Figure size 432x288 with 1 Axes>"
            ]
          },
          "metadata": {
            "tags": [],
            "needs_background": "light"
          }
        }
      ]
    }
  ]
}